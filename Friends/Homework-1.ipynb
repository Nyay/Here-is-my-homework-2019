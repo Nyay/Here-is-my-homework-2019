{
 "cells": [
  {
   "cell_type": "code",
   "execution_count": 117,
   "metadata": {
    "collapsed": true
   },
   "outputs": [],
   "source": [
    "import os\n",
    "import re\n",
    "import string\n",
    "import random\n",
    "import pandas as pd\n",
    "import operator\n",
    "import matplotlib.pylab as plt\n",
    "import warnings\n",
    "from itertools import chain\n",
    "from sklearn.feature_extraction.text import CountVectorizer\n",
    "from collections import defaultdict\n",
    "from nltk.tokenize import word_tokenize\n",
    "\n",
    "warnings.filterwarnings(action=\"ignore\")\n",
    "%matplotlib inline"
   ]
  },
  {
   "cell_type": "markdown",
   "metadata": {},
   "source": [
    "Создадим несколько переменных для того, чтобы составить материальню базу.\n",
    "\n",
    "**folds** – Это список папок, в которых хранятся наши тектсы, с которыми мы будем работать.\n",
    "\n",
    "**txts** – Список, в который мы поместим все наши тексты после обработки.\n",
    "\n",
    "**dir_line** – путь до нашей рабочей директори"
   ]
  },
  {
   "cell_type": "code",
   "execution_count": 118,
   "metadata": {},
   "outputs": [],
   "source": [
    "folds = ['Friends - season 1', 'Friends - season 2', 'Friends - season 3',\n",
    "         'Friends - season 4', 'Friends - season 5', 'Friends - season 6',\n",
    "         'Friends - season 7']\n",
    "\n",
    "txts = []"
   ]
  },
  {
   "cell_type": "markdown",
   "metadata": {},
   "source": [
    "Добавим функцию, которая будет чистить текст от всякой гадости.\n",
    "\n",
    "    1.Для очистки от знаков использую *string.punctuation*\n",
    "\n",
    "    2.Помимо этого в тексте есть и другия грязь, от которой необходимо избавиться.\n",
    "\n",
    "    3.Выполняю токенизацию текста и склеиваю все в один текст, *исключая числа*."
   ]
  },
  {
   "cell_type": "code",
   "execution_count": 119,
   "metadata": {
    "collapsed": true
   },
   "outputs": [],
   "source": [
    "def cleaning(text):\n",
    "    tokens = word_tokenize(text.lower())\n",
    "    for el in tokens:\n",
    "        if el in string.punctuation:\n",
    "            tokens.remove(el)\n",
    "        if el == '...' or el == \"''\" or el == '—' or el == '«' or el == '»':\n",
    "            tokens.remove(el)\n",
    "    text = ' '.join([i for i in tokens if not i.isdigit()])\n",
    "    return(text)"
   ]
  },
  {
   "cell_type": "markdown",
   "metadata": {},
   "source": [
    "Пройдемся по папкам и достанем все текста. Обработаем его и добавим в список."
   ]
  },
  {
   "cell_type": "code",
   "execution_count": 120,
   "metadata": {},
   "outputs": [],
   "source": [
    "text_num = 0\n",
    "names = defaultdict()\n",
    "for fold in folds:\n",
    "    local_dir = list(os.walk(os.path.abspath(fold)))\n",
    "    local_path = str(local_dir[0][0])\n",
    "    for text in local_dir[0][2]:\n",
    "        if '.txt' in text and type(text) == str:\n",
    "            with open(local_path + '/' + text) as file:\n",
    "                txts.append(cleaning(file.read()))\n",
    "                names[text_num] = text\n",
    "                text_num += 1"
   ]
  },
  {
   "cell_type": "markdown",
   "metadata": {},
   "source": [
    "Для составления терм-документ матрицы я использую ***CountVectorizer*** из *sklearn.feature_extraction.text*\n",
    "\n",
    "Тем самым составлю матрицу, где:\n",
    "\n",
    "    Столбцы – Это слова\n",
    "    Строки – Это документы\n",
    "\n",
    "Для удобства также преобразую матрицу в **DataFrame** при помощи Pandas"
   ]
  },
  {
   "cell_type": "code",
   "execution_count": 121,
   "metadata": {
    "collapsed": true
   },
   "outputs": [],
   "source": [
    "vec = CountVectorizer()\n",
    "TDM = vec.fit_transform(txts).toarray()\n",
    "TDM_DataFrame = pd.DataFrame(TDM,\n",
    "                             columns=vec.get_feature_names())"
   ]
  },
  {
   "cell_type": "code",
   "execution_count": 122,
   "metadata": {},
   "outputs": [
    {
     "data": {
      "text/plain": [
       "(165, 30829)"
      ]
     },
     "execution_count": 122,
     "metadata": {},
     "output_type": "execute_result"
    }
   ],
   "source": [
    "TDM_DataFrame.shape"
   ]
  },
  {
   "cell_type": "markdown",
   "metadata": {},
   "source": [
    "Теперь переименум индексы фрейма в названия файлов, которые мы создали при обработке текста, чтобы сделать более информативную выдачу результата."
   ]
  },
  {
   "cell_type": "code",
   "execution_count": 123,
   "metadata": {},
   "outputs": [],
   "source": [
    "TDM_DataFrame = TDM_DataFrame.rename(index=names)"
   ]
  },
  {
   "cell_type": "code",
   "execution_count": 125,
   "metadata": {},
   "outputs": [
    {
     "data": {
      "text/plain": [
       "(165, 30829)"
      ]
     },
     "execution_count": 125,
     "metadata": {},
     "output_type": "execute_result"
    }
   ],
   "source": [
    "TDM_DataFrame.shape"
   ]
  },
  {
   "cell_type": "markdown",
   "metadata": {},
   "source": [
    "Получается 165 документов и 30829 слов.\n",
    "\n",
    "Напишем простую функцию Булева поиска, которая может искать только одно слово.\n",
    "\n",
    "Как я и говорил раньше, всвязи с форматом матрицы, необходимо только найти такие строки, в столбце соответсвующем патерну поиска стоит НЕ ноль."
   ]
  },
  {
   "cell_type": "code",
   "execution_count": 126,
   "metadata": {
    "collapsed": true
   },
   "outputs": [],
   "source": [
    "def boolean_search(pattern):\n",
    "    try:\n",
    "        return TDM_DataFrame[TDM_DataFrame[pattern.lower()] != 0].index.tolist()\n",
    "    except KeyError:\n",
    "        return 'No pattern in DataSet'"
   ]
  },
  {
   "cell_type": "markdown",
   "metadata": {},
   "source": [
    "Теперь можно посмотреть на индексы файлов, в которых встречатеся (Первые 10, для сокращения выдачи)"
   ]
  },
  {
   "cell_type": "code",
   "execution_count": 129,
   "metadata": {},
   "outputs": [
    {
     "data": {
      "text/plain": [
       "['Friends - 2x02 - The One With The Breast Milk.ru.txt',\n",
       " \"Friends - 2x04 - The One With Phoebe's Husband.ru.txt\",\n",
       " 'Friends - 2x05 - The One With Five Steaks And An Eggplant.ru.txt',\n",
       " 'Friends - 2x07 - The One Where Ross Finds Out.ru.txt',\n",
       " \"Friends - 2x09 - The One With Phoebe's Dad.ru.txt\",\n",
       " 'Friends - 2x10 - The One With Russ.ru.txt',\n",
       " 'Friends - 2x12 - The One After The Super Bowl (1).ru.txt',\n",
       " 'Friends - 2x13 - The One After The Super Bowl (2).ru.txt',\n",
       " 'Friends - 2x14 - The One With The Prom Video.ru.txt',\n",
       " 'Friends - 2x15 - The One Where Ross And Rachel...You Know.ru.txt']"
      ]
     },
     "execution_count": 129,
     "metadata": {},
     "output_type": "execute_result"
    }
   ],
   "source": [
    "boolean_search('Рейчел')[:10]"
   ]
  },
  {
   "cell_type": "code",
   "execution_count": 130,
   "metadata": {},
   "outputs": [
    {
     "data": {
      "text/plain": [
       "['Friends - 1x01 - The One Where Monica Gets A Roommate.ru.txt',\n",
       " 'Friends - 1x03 - The One With The Thumb.ru.txt',\n",
       " 'Friends - 1x04 - The One With George Stephanopoulos.ru.txt',\n",
       " 'Friends - 1x07 - The One With The Blackout.ru.txt',\n",
       " 'Friends - 1x08 - The One Where Nana Dies Twice.ru.txt',\n",
       " 'Friends - 1x09 - The One Where Underdog Gets Away.ru.txt',\n",
       " 'Friends - 1x10 - The One With The Monkey.ru.txt',\n",
       " 'Friends - 1x11 - The One With Mrs. Bing.ru.txt',\n",
       " 'Friends - 1x12 - The One With The Dozen Lasagnas.ru.txt',\n",
       " 'Friends - 1x13 - The One With The Boobies.ru.txt']"
      ]
     },
     "execution_count": 130,
     "metadata": {},
     "output_type": "execute_result"
    }
   ],
   "source": [
    "boolean_search('Фиби')[:10]"
   ]
  },
  {
   "cell_type": "markdown",
   "metadata": {},
   "source": [
    "Вроде работает. Теперь займемся более сложным поиском.\n",
    "\n",
    "Лоя этого, сперва напишем две фенкции, которые помогут нам взаимодействовать со строкой с параметрами поиска. Для этого нам необходимо.\n",
    "    \n",
    "    Вычетание списков \"Для (Не pattern)\" – Difference(line)\n",
    "    Сумма списков \"Для (pattern ИЛИ pattern)\" – Union(line)\n",
    "    \n",
    "В этих функциях, я достаю слова, которые нам нобходжимо дость из файлов, нахожу список файлов, в которых встречаются эти слова, а затем выполняю необходимые мне файлы.\n",
    "\n",
    "Для Вычетания применяю такой алгоритм:\n",
    "\n",
    "    1. Получаю файлы ГДЕ ВСТРЕЧАЕТСЯ необходимое слово.\n",
    "    2. Создаю список range от 1 до 165\n",
    "    3. Вычитаю из списка (п.2) список (п.1), тем самым получаю файлы, в которых нет необходимого слова.\n",
    "    "
   ]
  },
  {
   "cell_type": "code",
   "execution_count": 134,
   "metadata": {
    "collapsed": true
   },
   "outputs": [],
   "source": [
    "def Union(line):\n",
    "    try:\n",
    "        sub = re.search('\\((.*?) ИЛИ (.*?)\\)', line)\n",
    "        result_1 = boolean_search(str(sub.group(1)))\n",
    "        result_2 = boolean_search(str(sub.group(2)))\n",
    "        return list(set.union(set(result_1),\n",
    "                              set(result_2)))\n",
    "    except AttributeError:\n",
    "        return None\n",
    "        \n",
    "def Difference(line):\n",
    "    try:\n",
    "        sub = re.search('\\(НЕ (.*?)\\)', line)\n",
    "        result_1 = boolean_search(str(sub.group(1)).lower())\n",
    "        return list(set.difference(set(TDM_DataFrame.index.tolist()), set(result_1)))\n",
    "    except AttributeError:\n",
    "        return None"
   ]
  },
  {
   "cell_type": "markdown",
   "metadata": {},
   "source": [
    "Основная функция поиска. Если в строке втречается необходимая мне фраза (\"ИЛИ\" или \"НЕ\"), то выполняю необходимую фунуцию для получения номеров файлов."
   ]
  },
  {
   "cell_type": "code",
   "execution_count": 132,
   "metadata": {
    "collapsed": true
   },
   "outputs": [],
   "source": [
    "def boolean_search_type_r(pattern):\n",
    "    try:\n",
    "        local_pattern = pattern.split(' & ')\n",
    "        local_result = []\n",
    "        for el in local_pattern:\n",
    "            if ' ИЛИ ' in el:\n",
    "                local_result.append(Union(el))\n",
    "            elif 'НЕ ' in el:\n",
    "                local_result.append(Difference(el))\n",
    "            else:\n",
    "                local_result.append(boolean_search(el))\n",
    "        return list(set.intersection(*map(set, local_result)))\n",
    "    except KeyError:\n",
    "        return 'No pattern in DataSet'"
   ]
  },
  {
   "cell_type": "markdown",
   "metadata": {},
   "source": [
    "**Проверим работу нашего алгоритма**"
   ]
  },
  {
   "cell_type": "code",
   "execution_count": 140,
   "metadata": {},
   "outputs": [
    {
     "data": {
      "text/plain": [
       "[\"Friends - 4x14 - The One With Joey's Dirty Day.ru.txt\",\n",
       " 'Friends - 3x06 - The One With The Flashback.ru.txt',\n",
       " 'Friends - 4x15 - The One With All The Rugby.ru.txt',\n",
       " 'Friends - 5x06 - The One With The Yeti.ru.txt',\n",
       " \"Friends - 6x19 - The One With Joey's Fridge.ru.txt\",\n",
       " 'Friends - 1x16 - The One With Two Parts (1).ru.txt',\n",
       " 'Friends - 7x09 - The One With All The Candy.ru.txt',\n",
       " 'Friends - 2x12 - The One After The Super Bowl (1).ru.txt',\n",
       " \"Friends - 7x02 - The One With Rachel's Book.ru.txt\",\n",
       " 'Friends - 1x20 - The One With The Evil Orthodontist.ru.txt',\n",
       " 'Friends - 5x24-25 - The One In Vegas (2).ru.txt',\n",
       " \"Friends - 6x14 - The One Where Chandler Can't Cry (2).ru.txt\",\n",
       " 'Friends - 4x17 - The One With The Free Porn.ru.txt',\n",
       " \"Friends - 6x13 - The One With Rachel's Sister (1).ru.txt\",\n",
       " \"Friends - 2x19 - The One Where Eddie Won't Go.ru.txt\",\n",
       " 'Friends - 4x20 - The One With The Wedding Dresses.ru.txt',\n",
       " \"Friends - 3x11 - The One Where Chandler Can't Remember Which Sister.ru.txt\",\n",
       " \"Friends - 7x18 - The One With Joey's Award.ru.txt\",\n",
       " 'Friends - 6x20 - The One With Mac And C.H.E.E.S.E..ru.txt',\n",
       " \"Friends - 4x11 - The One With Phoebe's Uterus.ru.txt\",\n",
       " 'Friends - 1x13 - The One With The Boobies.ru.txt',\n",
       " 'Friends - 6x16-17 - The One That Could Have Been (2).ru.txt',\n",
       " 'Friends - 3x04 - The One With The Metaphorical Tunnel.ru.txt',\n",
       " 'Friends - 1x10 - The One With The Monkey.ru.txt',\n",
       " \"Friends - 4x18 - The One With Rachel's New Dress.ru.txt\",\n",
       " \"Friends - 3x14 - The One With Phoebe's Ex-Partner.ru.txt\",\n",
       " 'Friends - 4x22 - The One With The Worst Best Man Ever.ru.txt']"
      ]
     },
     "execution_count": 140,
     "metadata": {},
     "output_type": "execute_result"
    }
   ],
   "source": [
    "boolean_search_type_r('(НЕ Моника)')"
   ]
  },
  {
   "cell_type": "code",
   "execution_count": 141,
   "metadata": {},
   "outputs": [
    {
     "data": {
      "text/plain": [
       "[\"Friends - 7x08 - The One Where Chandler Doesn't Like Dogs.ru.txt\",\n",
       " 'Friends - 3x17 - The One Without The Ski Trip.ru.txt',\n",
       " 'Friends - 6x01 - The One After Vegas.ru.txt',\n",
       " 'Friends - 7x13 - The One Where Rosita Dies.ru.txt',\n",
       " 'Friends - 5x20 - The One With The Ride Along.ru.txt',\n",
       " 'Friends - 5x16 - The One With The Cop.ru.txt',\n",
       " \"Friends - 7x22 - The One With Chandler's Dad.ru.txt\",\n",
       " 'Friends - 6x11 - The One With The Apothecary Table.ru.txt',\n",
       " 'Friends - 7x14 - The One Where They All Turn Thirty.ru.txt',\n",
       " \"Friends - 6x05 - The One With Joey's Porsche.ru.txt\",\n",
       " \"Friends - 2x19 - The One Where Eddie Won't Go.ru.txt\",\n",
       " 'Friends - 6x20 - The One With Mac And C.H.E.E.S.E..ru.txt',\n",
       " 'Friends - 1x18 - The One With All The Poker.ru.txt',\n",
       " 'Friends - 2x15 - The One Where Ross And Rachel...You Know.ru.txt',\n",
       " 'Friends - 1x05 - The One With The East German Laundry Detergent.ru.txt',\n",
       " 'Friends - 2x22 - The One With The Two Parties.ru.txt',\n",
       " 'Friends - 3x07 - The One With The Race Car Bed.ru.txt',\n",
       " 'Friends - 1x11 - The One With Mrs. Bing.ru.txt',\n",
       " \"Friends - 6x22 - The One Where Paul's The Man.ru.txt\"]"
      ]
     },
     "execution_count": 141,
     "metadata": {},
     "output_type": "execute_result"
    }
   ],
   "source": [
    "boolean_search_type_r('(машина ИЛИ консоль)')"
   ]
  },
  {
   "cell_type": "code",
   "execution_count": 142,
   "metadata": {},
   "outputs": [
    {
     "data": {
      "text/plain": [
       "['Friends - 6x11 - The One With The Apothecary Table.ru.txt']"
      ]
     },
     "execution_count": 142,
     "metadata": {},
     "output_type": "execute_result"
    }
   ],
   "source": [
    "boolean_search_type_r('консоль')"
   ]
  },
  {
   "cell_type": "code",
   "execution_count": 143,
   "metadata": {},
   "outputs": [
    {
     "data": {
      "text/plain": [
       "['Friends - 6x01 - The One After Vegas.ru.txt',\n",
       " 'Friends - 3x17 - The One Without The Ski Trip.ru.txt',\n",
       " \"Friends - 7x08 - The One Where Chandler Doesn't Like Dogs.ru.txt\",\n",
       " 'Friends - 7x13 - The One Where Rosita Dies.ru.txt',\n",
       " 'Friends - 5x16 - The One With The Cop.ru.txt',\n",
       " 'Friends - 5x20 - The One With The Ride Along.ru.txt',\n",
       " \"Friends - 7x22 - The One With Chandler's Dad.ru.txt\",\n",
       " 'Friends - 7x14 - The One Where They All Turn Thirty.ru.txt',\n",
       " \"Friends - 6x05 - The One With Joey's Porsche.ru.txt\",\n",
       " \"Friends - 2x19 - The One Where Eddie Won't Go.ru.txt\",\n",
       " 'Friends - 6x20 - The One With Mac And C.H.E.E.S.E..ru.txt',\n",
       " 'Friends - 1x18 - The One With All The Poker.ru.txt',\n",
       " 'Friends - 2x15 - The One Where Ross And Rachel...You Know.ru.txt',\n",
       " 'Friends - 1x05 - The One With The East German Laundry Detergent.ru.txt',\n",
       " 'Friends - 2x22 - The One With The Two Parties.ru.txt',\n",
       " 'Friends - 3x07 - The One With The Race Car Bed.ru.txt',\n",
       " 'Friends - 1x11 - The One With Mrs. Bing.ru.txt',\n",
       " \"Friends - 6x22 - The One Where Paul's The Man.ru.txt\"]"
      ]
     },
     "execution_count": 143,
     "metadata": {},
     "output_type": "execute_result"
    }
   ],
   "source": [
    "boolean_search_type_r('машина')"
   ]
  },
  {
   "cell_type": "code",
   "execution_count": 144,
   "metadata": {},
   "outputs": [
    {
     "data": {
      "text/plain": [
       "True"
      ]
     },
     "execution_count": 144,
     "metadata": {},
     "output_type": "execute_result"
    }
   ],
   "source": [
    "len(boolean_search_type_r('консоль')) + len(boolean_search_type_r('машина')) == len(boolean_search_type_r('(машина ИЛИ консоль)'))"
   ]
  },
  {
   "cell_type": "markdown",
   "metadata": {},
   "source": [
    "_________\n",
    "\n",
    "# Теперь займемся обратным словарем\n",
    "\n",
    "Для этого создадим новую функцию записи данных... Для этого задания нам понадобится список слов."
   ]
  },
  {
   "cell_type": "code",
   "execution_count": 23,
   "metadata": {
    "collapsed": true
   },
   "outputs": [],
   "source": [
    "result = defaultdict()\n",
    "\n",
    "def sharp_cleaning(text):\n",
    "    tokens = word_tokenize(text.lower())\n",
    "    for el in tokens:\n",
    "        if el in string.punctuation:\n",
    "            tokens.remove(el)\n",
    "        if el == '...' or el == \"''\" or el == '—' or el == '«' or el == '»':\n",
    "            tokens.remove(el)\n",
    "    return(list([i for i in tokens if not i.isdigit()]))"
   ]
  },
  {
   "cell_type": "markdown",
   "metadata": {},
   "source": [
    "Новый формат хранения будет выглядеть таким образом:\n",
    "\n",
    "    Ключ – Слово\n",
    "    Значение – Список пар [сезон х серия, количество вхождений]"
   ]
  },
  {
   "cell_type": "code",
   "execution_count": 145,
   "metadata": {},
   "outputs": [],
   "source": [
    "result = defaultdict()\n",
    "\n",
    "for fold in folds:\n",
    "    local_dir = list(os.walk(os.path.abspath(fold)))\n",
    "    local_path = str(local_dir[0][0])\n",
    "    for text in local_dir[0][2]:\n",
    "        if '.txt' in text and type(text) == str:\n",
    "            with open(local_path + '/' + text) as file:\n",
    "                local_text = sharp_cleaning(file.read())\n",
    "                index = text.split(' - ')[1]\n",
    "                for word in local_text:\n",
    "                    if word in result:\n",
    "                        if index in list(chain(*result[word])):\n",
    "                            num = list(chain(*result[word])).index(index) // 2\n",
    "                            result[word][num][1] += 1\n",
    "                        else:\n",
    "                            result[word].append([index, 1])\n",
    "                    else:\n",
    "                        result[word] = [[index, 1]]"
   ]
  },
  {
   "cell_type": "markdown",
   "metadata": {},
   "source": [
    "Для проверки можно выыести наши словари, но я этого делать не буду, ибо выдача очень большая"
   ]
  },
  {
   "cell_type": "code",
   "execution_count": 146,
   "metadata": {},
   "outputs": [],
   "source": [
    "#result"
   ]
  },
  {
   "cell_type": "code",
   "execution_count": 147,
   "metadata": {},
   "outputs": [],
   "source": [
    "#result['рейчел']"
   ]
  },
  {
   "cell_type": "markdown",
   "metadata": {},
   "source": [
    "Чтобы найти слово с максимальным и минимальным количеством вхождений, нам надо только найти ключ, которому соответсвует самый короткий и самый длинный список."
   ]
  },
  {
   "cell_type": "code",
   "execution_count": 148,
   "metadata": {
    "collapsed": true
   },
   "outputs": [],
   "source": [
    "def max_word(diction):\n",
    "    local_diction = defaultdict()\n",
    "    for word in diction:\n",
    "        local_diction[word] = sum(filter(lambda i: isinstance(i, int), list(chain(*diction[word]))))\n",
    "    return max(local_diction, key=local_diction.get)\n",
    "\n",
    "def min_word(diction):\n",
    "    local_diction = defaultdict()\n",
    "    for word in diction:\n",
    "        local_diction[word] = sum(filter(lambda i: isinstance(i, int), list(chain(*diction[word]))))\n",
    "    return min(local_diction, key=local_diction.get)"
   ]
  },
  {
   "cell_type": "code",
   "execution_count": 149,
   "metadata": {},
   "outputs": [
    {
     "data": {
      "text/plain": [
       "'насорю'"
      ]
     },
     "execution_count": 149,
     "metadata": {},
     "output_type": "execute_result"
    }
   ],
   "source": [
    "min_word(result)"
   ]
  },
  {
   "cell_type": "code",
   "execution_count": 150,
   "metadata": {},
   "outputs": [
    {
     "data": {
      "text/plain": [
       "'я'"
      ]
     },
     "execution_count": 150,
     "metadata": {},
     "output_type": "execute_result"
    }
   ],
   "source": [
    "max_word(result)"
   ]
  },
  {
   "cell_type": "markdown",
   "metadata": {},
   "source": [
    "Чтобы найти слово, которое есть в каждом файле, нам необходимо найти ключ, длинна словаря которого == 165.\n",
    "\n",
    "К сожалению такое слово я не нашел"
   ]
  },
  {
   "cell_type": "code",
   "execution_count": 153,
   "metadata": {
    "collapsed": true
   },
   "outputs": [],
   "source": [
    "for word in result:\n",
    "    if len(result[word]) == 165:\n",
    "        print(word)"
   ]
  },
  {
   "cell_type": "markdown",
   "metadata": {},
   "source": [
    "Для каждого персонажа, посчитаем сколько раз его упомянали в каждом сезоне и составим bar chart..."
   ]
  },
  {
   "cell_type": "code",
   "execution_count": 154,
   "metadata": {
    "collapsed": true
   },
   "outputs": [],
   "source": [
    "def most_season(dude):\n",
    "    local_result = {}\n",
    "    data = result[dude.lower()]\n",
    "    for el in data:\n",
    "        if el[0].split('x')[0] in local_result:\n",
    "            local_result[el[0].split('x')[0]] += el[1]\n",
    "        else:\n",
    "            local_result[el[0].split('x')[0]] = 1\n",
    "    return local_result"
   ]
  },
  {
   "cell_type": "code",
   "execution_count": 155,
   "metadata": {
    "collapsed": true
   },
   "outputs": [],
   "source": [
    "def converting(dictionary):\n",
    "    result = [0, 0, 0, 0, 0, 0, 0]\n",
    "    for el in dictionary:\n",
    "        result[int(el) - 1] = dictionary[el]\n",
    "    return result"
   ]
  },
  {
   "cell_type": "code",
   "execution_count": 156,
   "metadata": {},
   "outputs": [
    {
     "data": {
      "text/plain": [
       "<matplotlib.text.Text at 0x10c77a860>"
      ]
     },
     "execution_count": 156,
     "metadata": {},
     "output_type": "execute_result"
    },
    {
     "data": {
      "image/png": "[encoded data removed]",
      "text/plain": [
       "<matplotlib.figure.Figure at 0x10c0d5588>"
      ]
     },
     "metadata": {},
     "output_type": "display_data"
    }
   ],
   "source": [
    "percentile_list = pd.DataFrame(\n",
    "    {'Росс': converting(most_season('Росс')),\n",
    "     'Джои': converting(most_season('Джои')),\n",
    "     'Рэйчел': converting(most_season('Рэйчел')),\n",
    "     'Фиби': converting(most_season('Фиби')),\n",
    "     'Моника': converting(most_season('Моника')),\n",
    "     'Чендлер': converting(most_season('Чендлер')),\n",
    "    })\n",
    "\n",
    "percentile_list.index += 1\n",
    "percentile_list.plot.bar(figsize=(8, 8),\n",
    "                         title='Количество упомянаний имен ГГ для всех сезонов',\n",
    "                         legend=True)\n",
    "\n",
    "plt.xlabel('Сезоны')\n",
    "plt.ylabel('Частота')"
   ]
  },
  {
   "cell_type": "markdown",
   "metadata": {},
   "source": [
    "____________\n",
    "\n",
    "# Okapi25\n",
    "\n",
    "Сперва, для решения этой задачи реализуем функцию, которую мы видели на семинаре с соответствующими переменными"
   ]
  },
  {
   "cell_type": "code",
   "execution_count": 157,
   "metadata": {
    "collapsed": true
   },
   "outputs": [],
   "source": [
    "from math import log\n",
    "\n",
    "k1 = 2.0\n",
    "b = 0.75\n",
    "\n",
    "def score_BM25(qf, dl, avgdl, k1, b, N, n) -> float:\n",
    "    IDF = log(((N - n + 0.5) / (n + 0.5)))\n",
    "    first = (k1 + 1) * qf\n",
    "    second = qf + (k1 * ((1-b) + b * (float(dl)/float(avgdl))))\n",
    "    return IDF * (first / second)"
   ]
  },
  {
   "cell_type": "markdown",
   "metadata": {},
   "source": [
    "Проверим работоспособность нашей функции на примере рандомных чисел."
   ]
  },
  {
   "cell_type": "code",
   "execution_count": 158,
   "metadata": {},
   "outputs": [
    {
     "data": {
      "text/plain": [
       "-0.8939448415904836"
      ]
     },
     "execution_count": 158,
     "metadata": {},
     "output_type": "execute_result"
    }
   ],
   "source": [
    "score_BM25(1, 2, 14, k1, b, 3, 2)"
   ]
  },
  {
   "cell_type": "markdown",
   "metadata": {},
   "source": [
    "Не ломается и хорошо...\n",
    "\n",
    "Теперь, составим новый формат хранения данных, это нам поможет для осуществления быстрой работы ранжирования при дальнейшей работы алгоритма.\n",
    "\n",
    "Сперва предствим нашу коллекцию ввиде словаря, где:\n",
    "\n",
    "    Ключи – Название документа\n",
    "    Значения – Список, который содержит частотный словарь для текста и количетсво слов."
   ]
  },
  {
   "cell_type": "code",
   "execution_count": 159,
   "metadata": {
    "collapsed": true
   },
   "outputs": [],
   "source": [
    "folds = ['Friends - season 1', 'Friends - season 2', 'Friends - season 3',\n",
    "         'Friends - season 4', 'Friends - season 5', 'Friends - season 6',\n",
    "         'Friends - season 7']\n",
    "\n",
    "documents = defaultdict()\n",
    "\n",
    "dir_line = '/Users/macbook/Downloads/Friends/'\n",
    "\n",
    "for fold in folds:\n",
    "    local_dir = list(os.walk(os.path.abspath(fold)))\n",
    "    local_path = str(local_dir[0][0])\n",
    "    for text in local_dir[0][2]:\n",
    "        if '.txt' in text and type(text) == str:\n",
    "            with open(local_path + '/' + text) as file:\n",
    "                text_list, text_data = sharp_cleaning(file.read()), defaultdict()\n",
    "                for word in text_list:\n",
    "                    if not word in text_data:\n",
    "                        text_data[word] = 0\n",
    "                    text_data[word] += 1\n",
    "                documents[str(text)] = [text_data, len(text_list)]"
   ]
  },
  {
   "cell_type": "markdown",
   "metadata": {},
   "source": [
    "Выведем данные для рандомного текста нашей коллекции. (Нет, слишком длинный словарь...)"
   ]
  },
  {
   "cell_type": "code",
   "execution_count": 169,
   "metadata": {},
   "outputs": [],
   "source": [
    "#documents[random.choice(list(documents.keys()))]"
   ]
  },
  {
   "cell_type": "markdown",
   "metadata": {},
   "source": [
    "Чтобы получить количество текстов в коллекции, просто надо посмотреть на длинну нашего словаря"
   ]
  },
  {
   "cell_type": "code",
   "execution_count": 161,
   "metadata": {},
   "outputs": [
    {
     "data": {
      "text/plain": [
       "165"
      ]
     },
     "execution_count": 161,
     "metadata": {},
     "output_type": "execute_result"
    }
   ],
   "source": [
    "len(documents)"
   ]
  },
  {
   "cell_type": "markdown",
   "metadata": {},
   "source": [
    "Чтобы посчитать среднюю длинну тектов коллекции, сложим все данные для каждого текста и поделим на длинну списка с длиннами."
   ]
  },
  {
   "cell_type": "code",
   "execution_count": 162,
   "metadata": {
    "collapsed": true
   },
   "outputs": [],
   "source": [
    "def mean_doc_len(coll):\n",
    "    result = []\n",
    "    for doc in coll:\n",
    "        result.append(int(coll[doc][1]))\n",
    "    return sum(result) / float(len(result))"
   ]
  },
  {
   "cell_type": "code",
   "execution_count": 163,
   "metadata": {},
   "outputs": [
    {
     "data": {
      "text/plain": [
       "2023.7575757575758"
      ]
     },
     "execution_count": 163,
     "metadata": {},
     "output_type": "execute_result"
    }
   ],
   "source": [
    "mean_doc_len(documents)"
   ]
  },
  {
   "cell_type": "markdown",
   "metadata": {},
   "source": [
    "Также для работы нашей формулы нам необходимо найти количество документов, где встречается слово из запроса."
   ]
  },
  {
   "cell_type": "code",
   "execution_count": 164,
   "metadata": {
    "collapsed": true
   },
   "outputs": [],
   "source": [
    "def query_occurrence(query, coll):\n",
    "    result = 0\n",
    "    for doc in coll:\n",
    "        if query.lower() in coll[doc][0]:\n",
    "            result += 1\n",
    "    return result"
   ]
  },
  {
   "cell_type": "code",
   "execution_count": 165,
   "metadata": {},
   "outputs": [
    {
     "data": {
      "text/plain": [
       "56"
      ]
     },
     "execution_count": 165,
     "metadata": {},
     "output_type": "execute_result"
    }
   ],
   "source": [
    "query_occurrence('Рэйчел', documents)"
   ]
  },
  {
   "cell_type": "markdown",
   "metadata": {},
   "source": [
    "Теперь все готово к работе с нашей формулой!"
   ]
  },
  {
   "cell_type": "code",
   "execution_count": 166,
   "metadata": {
    "collapsed": true
   },
   "outputs": [],
   "source": [
    "def compute_sim(query, document):\n",
    "    result = defaultdict()\n",
    "    N = len(documents)\n",
    "    avgdl = mean_doc_len(documents)\n",
    "    k1 = 2.0\n",
    "    b = 0.75\n",
    "    n = query_occurrence(query, documents)\n",
    "    dl = document[1]\n",
    "    try:\n",
    "        qf = document[0][str(query).lower()]\n",
    "    except KeyError:\n",
    "        qf = 0\n",
    "    return score_BM25(qf, dl, avgdl, k1, b, N, n)\n",
    "\n",
    "\n",
    "def get_search_result(query):\n",
    "    result = {}\n",
    "    words = query.split(' ')\n",
    "    for document in documents:\n",
    "        local_score = 0\n",
    "        for word in words:\n",
    "            local_score += compute_sim(word, documents[document])\n",
    "        result[str(document)] = local_score\n",
    "    return sorted(result.items(), key=lambda kv: kv[1], reverse=True)\n"
   ]
  },
  {
   "cell_type": "markdown",
   "metadata": {},
   "source": [
    "Ура, теперь только проверим на выражении 'рождественские каникулы'"
   ]
  },
  {
   "cell_type": "code",
   "execution_count": 167,
   "metadata": {},
   "outputs": [
    {
     "data": {
      "text/plain": [
       "[(\"Friends - 6x19 - The One With Joey's Fridge.ru.txt\", 6.62893145848959),\n",
       " (\"Friends - 2x09 - The One With Phoebe's Dad.ru.txt\", 6.490721263471384),\n",
       " ('Friends - 1x17 - The One With Two Parts (2).ru.txt', 5.452230363430965),\n",
       " ('Friends - 1x16 - The One With Two Parts (1).ru.txt', 5.39840804737953),\n",
       " ('Friends - 7x10 - The One With The Holiday Armadillo.ru.txt',\n",
       "  3.855784061289655),\n",
       " (\"Friends - 4x03 - The One With The 'Cuffs.ru.txt\", 3.6340813790887228),\n",
       " ('Friends - 6x09 - The One Where Ross Got High.ru.txt', 3.6203441870433157),\n",
       " ('Friends - 7x05 - The One With The Engagement Picture.ru.txt', 0.0),\n",
       " ('Friends - 1x15 - The One With The Stoned Guy.ru.txt', 0.0),\n",
       " ('Friends - 6x04 - The One Where Joey Loses His Insurance.ru.txt', 0.0)]"
      ]
     },
     "execution_count": 167,
     "metadata": {},
     "output_type": "execute_result"
    }
   ],
   "source": [
    "get_search_result('рождественские каникулы')[:10]"
   ]
  },
  {
   "cell_type": "markdown",
   "metadata": {},
   "source": [
    "Теперь у нас есть словарь, где каждому названию файла (ключ) соответсвует его score (значение).\n",
    "\n",
    "Красиво выведем перые пять результатов."
   ]
  },
  {
   "cell_type": "code",
   "execution_count": 168,
   "metadata": {},
   "outputs": [
    {
     "name": "stdout",
     "output_type": "stream",
     "text": [
      "For query \"Рождественские каникулы\" the algorithm finished working with top 10 result:\n",
      "\n",
      "File name:\tFriends - 6x19 - The One With Joey's Fridge.ru.txt\n",
      "Okapi25 score:\t6.62893145848959.\n",
      "\n",
      "File name:\tFriends - 2x09 - The One With Phoebe's Dad.ru.txt\n",
      "Okapi25 score:\t6.490721263471384.\n",
      "\n",
      "File name:\tFriends - 1x17 - The One With Two Parts (2).ru.txt\n",
      "Okapi25 score:\t5.452230363430965.\n",
      "\n",
      "File name:\tFriends - 1x16 - The One With Two Parts (1).ru.txt\n",
      "Okapi25 score:\t5.39840804737953.\n",
      "\n",
      "File name:\tFriends - 7x10 - The One With The Holiday Armadillo.ru.txt\n",
      "Okapi25 score:\t3.855784061289655.\n",
      "\n",
      "File name:\tFriends - 4x03 - The One With The 'Cuffs.ru.txt\n",
      "Okapi25 score:\t3.6340813790887228.\n",
      "\n",
      "File name:\tFriends - 6x09 - The One Where Ross Got High.ru.txt\n",
      "Okapi25 score:\t3.6203441870433157.\n",
      "\n",
      "File name:\tFriends - 7x05 - The One With The Engagement Picture.ru.txt\n",
      "Okapi25 score:\t0.0.\n",
      "\n",
      "File name:\tFriends - 1x15 - The One With The Stoned Guy.ru.txt\n",
      "Okapi25 score:\t0.0.\n",
      "\n",
      "File name:\tFriends - 6x04 - The One Where Joey Loses His Insurance.ru.txt\n",
      "Okapi25 score:\t0.0.\n",
      "\n"
     ]
    }
   ],
   "source": [
    "query = 'Рождественские каникулы'\n",
    "\n",
    "print('For query \"%s\" the algorithm finished working with top 10 result:\\n' % (query))\n",
    "\n",
    "for el in get_search_result(query)[:10]:\n",
    "    print ('File name:\\t%s\\nOkapi25 score:\\t%s.\\n' % (str(el[0]), str(el[1])))"
   ]
  }
 ],
 "metadata": {
  "kernelspec": {
   "display_name": "Python 3",
   "language": "python",
   "name": "python3"
  },
  "language_info": {
   "codemirror_mode": {
    "name": "ipython",
    "version": 3
   },
   "file_extension": ".py",
   "mimetype": "text/x-python",
   "name": "python",
   "nbconvert_exporter": "python",
   "pygments_lexer": "ipython3",
   "version": "3.5.2"
  }
 },
 "nbformat": 4,
 "nbformat_minor": 2
}
