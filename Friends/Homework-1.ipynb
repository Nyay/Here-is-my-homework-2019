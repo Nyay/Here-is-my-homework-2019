{
 "cells": [
  {
   "cell_type": "code",
   "execution_count": 117,
   "metadata": {
    "collapsed": true
   },
   "outputs": [],
   "source": [
    "import os\n",
    "import re\n",
    "import string\n",
    "import random\n",
    "import pandas as pd\n",
    "import operator\n",
    "import matplotlib.pylab as plt\n",
    "import warnings\n",
    "from itertools import chain\n",
    "from sklearn.feature_extraction.text import CountVectorizer\n",
    "from collections import defaultdict\n",
    "from nltk.tokenize import word_tokenize\n",
    "\n",
    "warnings.filterwarnings(action=\"ignore\")\n",
    "%matplotlib inline"
   ]
  },
  {
   "cell_type": "markdown",
   "metadata": {},
   "source": [
    "Создадим несколько переменных для того, чтобы составить материальню базу.\n",
    "\n",
    "**folds** – Это список папок, в которых хранятся наши тектсы, с которыми мы будем работать.\n",
    "\n",
    "**txts** – Список, в который мы поместим все наши тексты после обработки.\n",
    "\n",
    "**dir_line** – путь до нашей рабочей директори"
   ]
  },
  {
   "cell_type": "code",
   "execution_count": 118,
   "metadata": {},
   "outputs": [],
   "source": [
    "folds = ['Friends - season 1', 'Friends - season 2', 'Friends - season 3',\n",
    "         'Friends - season 4', 'Friends - season 5', 'Friends - season 6',\n",
    "         'Friends - season 7']\n",
    "\n",
    "txts = []"
   ]
  },
  {
   "cell_type": "markdown",
   "metadata": {},
   "source": [
    "Добавим функцию, которая будет чистить текст от всякой гадости.\n",
    "\n",
    "    1.Для очистки от знаков использую *string.punctuation*\n",
    "\n",
    "    2.Помимо этого в тексте есть и другия грязь, от которой необходимо избавиться.\n",
    "\n",
    "    3.Выполняю токенизацию текста и склеиваю все в один текст, *исключая числа*."
   ]
  },
  {
   "cell_type": "code",
   "execution_count": 119,
   "metadata": {
    "collapsed": true
   },
   "outputs": [],
   "source": [
    "def cleaning(text):\n",
    "    tokens = word_tokenize(text.lower())\n",
    "    for el in tokens:\n",
    "        if el in string.punctuation:\n",
    "            tokens.remove(el)\n",
    "        if el == '...' or el == \"''\" or el == '—' or el == '«' or el == '»':\n",
    "            tokens.remove(el)\n",
    "    text = ' '.join([i for i in tokens if not i.isdigit()])\n",
    "    return(text)"
   ]
  },
  {
   "cell_type": "markdown",
   "metadata": {},
   "source": [
    "Пройдемся по папкам и достанем все текста. Обработаем его и добавим в список."
   ]
  },
  {
   "cell_type": "code",
   "execution_count": 120,
   "metadata": {},
   "outputs": [],
   "source": [
    "text_num = 0\n",
    "names = defaultdict()\n",
    "for fold in folds:\n",
    "    local_dir = list(os.walk(os.path.abspath(fold)))\n",
    "    local_path = str(local_dir[0][0])\n",
    "    for text in local_dir[0][2]:\n",
    "        if '.txt' in text and type(text) == str:\n",
    "            with open(local_path + '/' + text) as file:\n",
    "                txts.append(cleaning(file.read()))\n",
    "                names[text_num] = text\n",
    "                text_num += 1"
   ]
  },
  {
   "cell_type": "markdown",
   "metadata": {},
   "source": [
    "Для составления терм-документ матрицы я использую ***CountVectorizer*** из *sklearn.feature_extraction.text*\n",
    "\n",
    "Тем самым составлю матрицу, где:\n",
    "\n",
    "    Столбцы – Это слова\n",
    "    Строки – Это документы\n",
    "\n",
    "Для удобства также преобразую матрицу в **DataFrame** при помощи Pandas"
   ]
  },
  {
   "cell_type": "code",
   "execution_count": 121,
   "metadata": {
    "collapsed": true
   },
   "outputs": [],
   "source": [
    "vec = CountVectorizer()\n",
    "TDM = vec.fit_transform(txts).toarray()\n",
    "TDM_DataFrame = pd.DataFrame(TDM,\n",
    "                             columns=vec.get_feature_names())"
   ]
  },
  {
   "cell_type": "code",
   "execution_count": 122,
   "metadata": {},
   "outputs": [
    {
     "data": {
      "text/plain": [
       "(165, 30829)"
      ]
     },
     "execution_count": 122,
     "metadata": {},
     "output_type": "execute_result"
    }
   ],
   "source": [
    "TDM_DataFrame.shape"
   ]
  },
  {
   "cell_type": "markdown",
   "metadata": {},
   "source": [
    "Теперь переименум индексы фрейма в названия файлов, которые мы создали при обработке текста, чтобы сделать более информативную выдачу результата."
   ]
  },
  {
   "cell_type": "code",
   "execution_count": 123,
   "metadata": {},
   "outputs": [],
   "source": [
    "TDM_DataFrame = TDM_DataFrame.rename(index=names)"
   ]
  },
  {
   "cell_type": "code",
   "execution_count": 125,
   "metadata": {},
   "outputs": [
    {
     "data": {
      "text/plain": [
       "(165, 30829)"
      ]
     },
     "execution_count": 125,
     "metadata": {},
     "output_type": "execute_result"
    }
   ],
   "source": [
    "TDM_DataFrame.shape"
   ]
  },
  {
   "cell_type": "markdown",
   "metadata": {},
   "source": [
    "Получается 165 документов и 30829 слов.\n",
    "\n",
    "Напишем простую функцию Булева поиска, которая может искать только одно слово.\n",
    "\n",
    "Как я и говорил раньше, всвязи с форматом матрицы, необходимо только найти такие строки, в столбце соответсвующем патерну поиска стоит НЕ ноль."
   ]
  },
  {
   "cell_type": "code",
   "execution_count": 126,
   "metadata": {
    "collapsed": true
   },
   "outputs": [],
   "source": [
    "def boolean_search(pattern):\n",
    "    try:\n",
    "        return TDM_DataFrame[TDM_DataFrame[pattern.lower()] != 0].index.tolist()\n",
    "    except KeyError:\n",
    "        return 'No pattern in DataSet'"
   ]
  },
  {
   "cell_type": "markdown",
   "metadata": {},
   "source": [
    "Теперь можно посмотреть на индексы файлов, в которых встречатеся (Первые 10, для сокращения выдачи)"
   ]
  },
  {
   "cell_type": "code",
   "execution_count": 129,
   "metadata": {},
   "outputs": [
    {
     "data": {
      "text/plain": [
       "['Friends - 2x02 - The One With The Breast Milk.ru.txt',\n",
       " \"Friends - 2x04 - The One With Phoebe's Husband.ru.txt\",\n",
       " 'Friends - 2x05 - The One With Five Steaks And An Eggplant.ru.txt',\n",
       " 'Friends - 2x07 - The One Where Ross Finds Out.ru.txt',\n",
       " \"Friends - 2x09 - The One With Phoebe's Dad.ru.txt\",\n",
       " 'Friends - 2x10 - The One With Russ.ru.txt',\n",
       " 'Friends - 2x12 - The One After The Super Bowl (1).ru.txt',\n",
       " 'Friends - 2x13 - The One After The Super Bowl (2).ru.txt',\n",
       " 'Friends - 2x14 - The One With The Prom Video.ru.txt',\n",
       " 'Friends - 2x15 - The One Where Ross And Rachel...You Know.ru.txt']"
      ]
     },
     "execution_count": 129,
     "metadata": {},
     "output_type": "execute_result"
    }
   ],
   "source": [
    "boolean_search('Рейчел')[:10]"
   ]
  },
  {
   "cell_type": "code",
   "execution_count": 130,
   "metadata": {},
   "outputs": [
    {
     "data": {
      "text/plain": [
       "['Friends - 1x01 - The One Where Monica Gets A Roommate.ru.txt',\n",
       " 'Friends - 1x03 - The One With The Thumb.ru.txt',\n",
       " 'Friends - 1x04 - The One With George Stephanopoulos.ru.txt',\n",
       " 'Friends - 1x07 - The One With The Blackout.ru.txt',\n",
       " 'Friends - 1x08 - The One Where Nana Dies Twice.ru.txt',\n",
       " 'Friends - 1x09 - The One Where Underdog Gets Away.ru.txt',\n",
       " 'Friends - 1x10 - The One With The Monkey.ru.txt',\n",
       " 'Friends - 1x11 - The One With Mrs. Bing.ru.txt',\n",
       " 'Friends - 1x12 - The One With The Dozen Lasagnas.ru.txt',\n",
       " 'Friends - 1x13 - The One With The Boobies.ru.txt']"
      ]
     },
     "execution_count": 130,
     "metadata": {},
     "output_type": "execute_result"
    }
   ],
   "source": [
    "boolean_search('Фиби')[:10]"
   ]
  },
  {
   "cell_type": "markdown",
   "metadata": {},
   "source": [
    "Вроде работает. Теперь займемся более сложным поиском.\n",
    "\n",
    "Лоя этого, сперва напишем две фенкции, которые помогут нам взаимодействовать со строкой с параметрами поиска. Для этого нам необходимо.\n",
    "    \n",
    "    Вычетание списков \"Для (Не pattern)\" – Difference(line)\n",
    "    Сумма списков \"Для (pattern ИЛИ pattern)\" – Union(line)\n",
    "    \n",
    "В этих функциях, я достаю слова, которые нам нобходжимо дость из файлов, нахожу список файлов, в которых встречаются эти слова, а затем выполняю необходимые мне файлы.\n",
    "\n",
    "Для Вычетания применяю такой алгоритм:\n",
    "\n",
    "    1. Получаю файлы ГДЕ ВСТРЕЧАЕТСЯ необходимое слово.\n",
    "    2. Создаю список range от 1 до 165\n",
    "    3. Вычитаю из списка (п.2) список (п.1), тем самым получаю файлы, в которых нет необходимого слова.\n",
    "    "
   ]
  },
  {
   "cell_type": "code",
   "execution_count": 134,
   "metadata": {
    "collapsed": true
   },
   "outputs": [],
   "source": [
    "def Union(line):\n",
    "    try:\n",
    "        sub = re.search('\\((.*?) ИЛИ (.*?)\\)', line)\n",
    "        result_1 = boolean_search(str(sub.group(1)))\n",
    "        result_2 = boolean_search(str(sub.group(2)))\n",
    "        return list(set.union(set(result_1),\n",
    "                              set(result_2)))\n",
    "    except AttributeError:\n",
    "        return None\n",
    "        \n",
    "def Difference(line):\n",
    "    try:\n",
    "        sub = re.search('\\(НЕ (.*?)\\)', line)\n",
    "        result_1 = boolean_search(str(sub.group(1)).lower())\n",
    "        return list(set.difference(set(TDM_DataFrame.index.tolist()), set(result_1)))\n",
    "    except AttributeError:\n",
    "        return None"
   ]
  },
  {
   "cell_type": "markdown",
   "metadata": {},
   "source": [
    "Основная функция поиска. Если в строке втречается необходимая мне фраза (\"ИЛИ\" или \"НЕ\"), то выполняю необходимую фунуцию для получения номеров файлов."
   ]
  },
  {
   "cell_type": "code",
   "execution_count": 132,
   "metadata": {
    "collapsed": true
   },
   "outputs": [],
   "source": [
    "def boolean_search_type_r(pattern):\n",
    "    try:\n",
    "        local_pattern = pattern.split(' & ')\n",
    "        local_result = []\n",
    "        for el in local_pattern:\n",
    "            if ' ИЛИ ' in el:\n",
    "                local_result.append(Union(el))\n",
    "            elif 'НЕ ' in el:\n",
    "                local_result.append(Difference(el))\n",
    "            else:\n",
    "                local_result.append(boolean_search(el))\n",
    "        return list(set.intersection(*map(set, local_result)))\n",
    "    except KeyError:\n",
    "        return 'No pattern in DataSet'"
   ]
  },
  {
   "cell_type": "markdown",
   "metadata": {},
   "source": [
    "**Проверим работу нашего алгоритма**"
   ]
  },
  {
   "cell_type": "code",
   "execution_count": 140,
   "metadata": {},
   "outputs": [
    {
     "data": {
      "text/plain": [
       "[\"Friends - 4x14 - The One With Joey's Dirty Day.ru.txt\",\n",
       " 'Friends - 3x06 - The One With The Flashback.ru.txt',\n",
       " 'Friends - 4x15 - The One With All The Rugby.ru.txt',\n",
       " 'Friends - 5x06 - The One With The Yeti.ru.txt',\n",
       " \"Friends - 6x19 - The One With Joey's Fridge.ru.txt\",\n",
       " 'Friends - 1x16 - The One With Two Parts (1).ru.txt',\n",
       " 'Friends - 7x09 - The One With All The Candy.ru.txt',\n",
       " 'Friends - 2x12 - The One After The Super Bowl (1).ru.txt',\n",
       " \"Friends - 7x02 - The One With Rachel's Book.ru.txt\",\n",
       " 'Friends - 1x20 - The One With The Evil Orthodontist.ru.txt',\n",
       " 'Friends - 5x24-25 - The One In Vegas (2).ru.txt',\n",
       " \"Friends - 6x14 - The One Where Chandler Can't Cry (2).ru.txt\",\n",
       " 'Friends - 4x17 - The One With The Free Porn.ru.txt',\n",
       " \"Friends - 6x13 - The One With Rachel's Sister (1).ru.txt\",\n",
       " \"Friends - 2x19 - The One Where Eddie Won't Go.ru.txt\",\n",
       " 'Friends - 4x20 - The One With The Wedding Dresses.ru.txt',\n",
       " \"Friends - 3x11 - The One Where Chandler Can't Remember Which Sister.ru.txt\",\n",
       " \"Friends - 7x18 - The One With Joey's Award.ru.txt\",\n",
       " 'Friends - 6x20 - The One With Mac And C.H.E.E.S.E..ru.txt',\n",
       " \"Friends - 4x11 - The One With Phoebe's Uterus.ru.txt\",\n",
       " 'Friends - 1x13 - The One With The Boobies.ru.txt',\n",
       " 'Friends - 6x16-17 - The One That Could Have Been (2).ru.txt',\n",
       " 'Friends - 3x04 - The One With The Metaphorical Tunnel.ru.txt',\n",
       " 'Friends - 1x10 - The One With The Monkey.ru.txt',\n",
       " \"Friends - 4x18 - The One With Rachel's New Dress.ru.txt\",\n",
       " \"Friends - 3x14 - The One With Phoebe's Ex-Partner.ru.txt\",\n",
       " 'Friends - 4x22 - The One With The Worst Best Man Ever.ru.txt']"
      ]
     },
     "execution_count": 140,
     "metadata": {},
     "output_type": "execute_result"
    }
   ],
   "source": [
    "boolean_search_type_r('(НЕ Моника)')"
   ]
  },
  {
   "cell_type": "code",
   "execution_count": 141,
   "metadata": {},
   "outputs": [
    {
     "data": {
      "text/plain": [
       "[\"Friends - 7x08 - The One Where Chandler Doesn't Like Dogs.ru.txt\",\n",
       " 'Friends - 3x17 - The One Without The Ski Trip.ru.txt',\n",
       " 'Friends - 6x01 - The One After Vegas.ru.txt',\n",
       " 'Friends - 7x13 - The One Where Rosita Dies.ru.txt',\n",
       " 'Friends - 5x20 - The One With The Ride Along.ru.txt',\n",
       " 'Friends - 5x16 - The One With The Cop.ru.txt',\n",
       " \"Friends - 7x22 - The One With Chandler's Dad.ru.txt\",\n",
       " 'Friends - 6x11 - The One With The Apothecary Table.ru.txt',\n",
       " 'Friends - 7x14 - The One Where They All Turn Thirty.ru.txt',\n",
       " \"Friends - 6x05 - The One With Joey's Porsche.ru.txt\",\n",
       " \"Friends - 2x19 - The One Where Eddie Won't Go.ru.txt\",\n",
       " 'Friends - 6x20 - The One With Mac And C.H.E.E.S.E..ru.txt',\n",
       " 'Friends - 1x18 - The One With All The Poker.ru.txt',\n",
       " 'Friends - 2x15 - The One Where Ross And Rachel...You Know.ru.txt',\n",
       " 'Friends - 1x05 - The One With The East German Laundry Detergent.ru.txt',\n",
       " 'Friends - 2x22 - The One With The Two Parties.ru.txt',\n",
       " 'Friends - 3x07 - The One With The Race Car Bed.ru.txt',\n",
       " 'Friends - 1x11 - The One With Mrs. Bing.ru.txt',\n",
       " \"Friends - 6x22 - The One Where Paul's The Man.ru.txt\"]"
      ]
     },
     "execution_count": 141,
     "metadata": {},
     "output_type": "execute_result"
    }
   ],
   "source": [
    "boolean_search_type_r('(машина ИЛИ консоль)')"
   ]
  },
  {
   "cell_type": "code",
   "execution_count": 142,
   "metadata": {},
   "outputs": [
    {
     "data": {
      "text/plain": [
       "['Friends - 6x11 - The One With The Apothecary Table.ru.txt']"
      ]
     },
     "execution_count": 142,
     "metadata": {},
     "output_type": "execute_result"
    }
   ],
   "source": [
    "boolean_search_type_r('консоль')"
   ]
  },
  {
   "cell_type": "code",
   "execution_count": 143,
   "metadata": {},
   "outputs": [
    {
     "data": {
      "text/plain": [
       "['Friends - 6x01 - The One After Vegas.ru.txt',\n",
       " 'Friends - 3x17 - The One Without The Ski Trip.ru.txt',\n",
       " \"Friends - 7x08 - The One Where Chandler Doesn't Like Dogs.ru.txt\",\n",
       " 'Friends - 7x13 - The One Where Rosita Dies.ru.txt',\n",
       " 'Friends - 5x16 - The One With The Cop.ru.txt',\n",
       " 'Friends - 5x20 - The One With The Ride Along.ru.txt',\n",
       " \"Friends - 7x22 - The One With Chandler's Dad.ru.txt\",\n",
       " 'Friends - 7x14 - The One Where They All Turn Thirty.ru.txt',\n",
       " \"Friends - 6x05 - The One With Joey's Porsche.ru.txt\",\n",
       " \"Friends - 2x19 - The One Where Eddie Won't Go.ru.txt\",\n",
       " 'Friends - 6x20 - The One With Mac And C.H.E.E.S.E..ru.txt',\n",
       " 'Friends - 1x18 - The One With All The Poker.ru.txt',\n",
       " 'Friends - 2x15 - The One Where Ross And Rachel...You Know.ru.txt',\n",
       " 'Friends - 1x05 - The One With The East German Laundry Detergent.ru.txt',\n",
       " 'Friends - 2x22 - The One With The Two Parties.ru.txt',\n",
       " 'Friends - 3x07 - The One With The Race Car Bed.ru.txt',\n",
       " 'Friends - 1x11 - The One With Mrs. Bing.ru.txt',\n",
       " \"Friends - 6x22 - The One Where Paul's The Man.ru.txt\"]"
      ]
     },
     "execution_count": 143,
     "metadata": {},
     "output_type": "execute_result"
    }
   ],
   "source": [
    "boolean_search_type_r('машина')"
   ]
  },
  {
   "cell_type": "code",
   "execution_count": 144,
   "metadata": {},
   "outputs": [
    {
     "data": {
      "text/plain": [
       "True"
      ]
     },
     "execution_count": 144,
     "metadata": {},
     "output_type": "execute_result"
    }
   ],
   "source": [
    "len(boolean_search_type_r('консоль')) + len(boolean_search_type_r('машина')) == len(boolean_search_type_r('(машина ИЛИ консоль)'))"
   ]
  },
  {
   "cell_type": "markdown",
   "metadata": {},
   "source": [
    "_________\n",
    "\n",
    "# Теперь займемся обратным словарем\n",
    "\n",
    "Для этого создадим новую функцию записи данных... Для этого задания нам понадобится список слов."
   ]
  },
  {
   "cell_type": "code",
   "execution_count": 23,
   "metadata": {
    "collapsed": true
   },
   "outputs": [],
   "source": [
    "result = defaultdict()\n",
    "\n",
    "def sharp_cleaning(text):\n",
    "    tokens = word_tokenize(text.lower())\n",
    "    for el in tokens:\n",
    "        if el in string.punctuation:\n",
    "            tokens.remove(el)\n",
    "        if el == '...' or el == \"''\" or el == '—' or el == '«' or el == '»':\n",
    "            tokens.remove(el)\n",
    "    return(list([i for i in tokens if not i.isdigit()]))"
   ]
  },
  {
   "cell_type": "markdown",
   "metadata": {},
   "source": [
    "Новый формат хранения будет выглядеть таким образом:\n",
    "\n",
    "    Ключ – Слово\n",
    "    Значение – Список пар [сезон х серия, количество вхождений]"
   ]
  },
  {
   "cell_type": "code",
   "execution_count": 145,
   "metadata": {},
   "outputs": [],
   "source": [
    "result = defaultdict()\n",
    "\n",
    "for fold in folds:\n",
    "    local_dir = list(os.walk(os.path.abspath(fold)))\n",
    "    local_path = str(local_dir[0][0])\n",
    "    for text in local_dir[0][2]:\n",
    "        if '.txt' in text and type(text) == str:\n",
    "            with open(local_path + '/' + text) as file:\n",
    "                local_text = sharp_cleaning(file.read())\n",
    "                index = text.split(' - ')[1]\n",
    "                for word in local_text:\n",
    "                    if word in result:\n",
    "                        if index in list(chain(*result[word])):\n",
    "                            num = list(chain(*result[word])).index(index) // 2\n",
    "                            result[word][num][1] += 1\n",
    "                        else:\n",
    "                            result[word].append([index, 1])\n",
    "                    else:\n",
    "                        result[word] = [[index, 1]]"
   ]
  },
  {
   "cell_type": "markdown",
   "metadata": {},
   "source": [
    "Для проверки можно выыести наши словари, но я этого делать не буду, ибо выдача очень большая"
   ]
  },
  {
   "cell_type": "code",
   "execution_count": 146,
   "metadata": {},
   "outputs": [],
   "source": [
    "#result"
   ]
  },
  {
   "cell_type": "code",
   "execution_count": 147,
   "metadata": {},
   "outputs": [],
   "source": [
    "#result['рейчел']"
   ]
  },
  {
   "cell_type": "markdown",
   "metadata": {},
   "source": [
    "Чтобы найти слово с максимальным и минимальным количеством вхождений, нам надо только найти ключ, которому соответсвует самый короткий и самый длинный список."
   ]
  },
  {
   "cell_type": "code",
   "execution_count": 148,
   "metadata": {
    "collapsed": true
   },
   "outputs": [],
   "source": [
    "def max_word(diction):\n",
    "    local_diction = defaultdict()\n",
    "    for word in diction:\n",
    "        local_diction[word] = sum(filter(lambda i: isinstance(i, int), list(chain(*diction[word]))))\n",
    "    return max(local_diction, key=local_diction.get)\n",
    "\n",
    "def min_word(diction):\n",
    "    local_diction = defaultdict()\n",
    "    for word in diction:\n",
    "        local_diction[word] = sum(filter(lambda i: isinstance(i, int), list(chain(*diction[word]))))\n",
    "    return min(local_diction, key=local_diction.get)"
   ]
  },
  {
   "cell_type": "code",
   "execution_count": 149,
   "metadata": {},
   "outputs": [
    {
     "data": {
      "text/plain": [
       "'насорю'"
      ]
     },
     "execution_count": 149,
     "metadata": {},
     "output_type": "execute_result"
    }
   ],
   "source": [
    "min_word(result)"
   ]
  },
  {
   "cell_type": "code",
   "execution_count": 150,
   "metadata": {},
   "outputs": [
    {
     "data": {
      "text/plain": [
       "'я'"
      ]
     },
     "execution_count": 150,
     "metadata": {},
     "output_type": "execute_result"
    }
   ],
   "source": [
    "max_word(result)"
   ]
  },
  {
   "cell_type": "markdown",
   "metadata": {},
   "source": [
    "Чтобы найти слово, которое есть в каждом файле, нам необходимо найти ключ, длинна словаря которого == 165.\n",
    "\n",
    "К сожалению такое слово я не нашел"
   ]
  },
  {
   "cell_type": "code",
   "execution_count": 153,
   "metadata": {
    "collapsed": true
   },
   "outputs": [],
   "source": [
    "for word in result:\n",
    "    if len(result[word]) == 165:\n",
    "        print(word)"
   ]
  },
  {
   "cell_type": "markdown",
   "metadata": {},
   "source": [
    "Для каждого персонажа, посчитаем сколько раз его упомянали в каждом сезоне и составим bar chart..."
   ]
  },
  {
   "cell_type": "code",
   "execution_count": 154,
   "metadata": {
    "collapsed": true
   },
   "outputs": [],
   "source": [
    "def most_season(dude):\n",
    "    local_result = {}\n",
    "    data = result[dude.lower()]\n",
    "    for el in data:\n",
    "        if el[0].split('x')[0] in local_result:\n",
    "            local_result[el[0].split('x')[0]] += el[1]\n",
    "        else:\n",
    "            local_result[el[0].split('x')[0]] = 1\n",
    "    return local_result"
   ]
  },
  {
   "cell_type": "code",
   "execution_count": 155,
   "metadata": {
    "collapsed": true
   },
   "outputs": [],
   "source": [
    "def converting(dictionary):\n",
    "    result = [0, 0, 0, 0, 0, 0, 0]\n",
    "    for el in dictionary:\n",
    "        result[int(el) - 1] = dictionary[el]\n",
    "    return result"
   ]
  },
  {
   "cell_type": "code",
   "execution_count": 156,
   "metadata": {},
   "outputs": [
    {
     "data": {
      "text/plain": [
       "<matplotlib.text.Text at 0x10c77a860>"
      ]
     },
     "execution_count": 156,
     "metadata": {},
     "output_type": "execute_result"
    },
    {
     "data": {
      "image/png": "[encoded data removed]",
      "text/plain": [
       "<matplotlib.figure.Figure at 0x10c0d5588>"
      ]
     },
     "metadata": {},
     "output_type": "display_data"
    }
   ],
   "source": [
    "percentile_list = pd.DataFrame(\n",
    "    {'Росс': converting(most_season('Росс')),\n",
    "     'Джои': converting(most_season('Джои')),\n",
    "     'Рэйчел': converting(most_season('Рэйчел')),\n",
    "     'Фиби': converting(most_season('Фиби')),\n",
    "     'Моника': converting(most_season('Моника')),\n",
    "     'Чендлер': converting(most_season('Чендлер')),\n",
    "    })\n",
    "\n",
    "percentile_list.index += 1\n",
    "percentile_list.plot.bar(figsize=(8, 8),\n",
    "                         title='Количество упомянаний имен ГГ для всех сезонов',\n",
    "                         legend=True)\n",
    "\n",
    "plt.xlabel('Сезоны')\n",
    "plt.ylabel('Частота')"
   ]
  },
  {
   "cell_type": "markdown",
   "metadata": {},
   "source": [
    "____________\n",
    "\n",
    "# Okapi25\n",
    "\n",
    "Сперва, для решения этой задачи реализуем функцию, которую мы видели на семинаре с соответствующими переменными"
   ]
  },
  {
   "cell_type": "code",
   "execution_count": 157,
   "metadata": {
    "collapsed": true
   },
   "outputs": [],
   "source": [
    "from math import log\n",
    "\n",
    "k1 = 2.0\n",
    "b = 0.75\n",
    "\n",
    "def score_BM25(qf, dl, avgdl, k1, b, N, n) -> float:\n",
    "    IDF = log(((N - n + 0.5) / (n + 0.5)))\n",
    "    first = (k1 + 1) * qf\n",
    "    second = qf + (k1 * ((1-b) + b * (float(dl)/float(avgdl))))\n",
    "    return IDF * (first / second)"
   ]
  },
  {
   "cell_type": "markdown",
   "metadata": {},
   "source": [
    "Проверим работоспособность нашей функции на примере рандомных чисел."
   ]
  },
  {
   "cell_type": "code",
   "execution_count": 158,
   "metadata": {},
   "outputs": [
    {
     "data": {
      "text/plain": [
       "-0.8939448415904836"
      ]
     },
     "execution_count": 158,
     "metadata": {},
     "output_type": "execute_result"
    }
   ],
   "source": [
    "score_BM25(1, 2, 14, k1, b, 3, 2)"
   ]
  },
  {
   "cell_type": "markdown",
   "metadata": {},
   "source": [
    "Не ломается и хорошо...\n",
    "\n",
    "Теперь, составим новый формат хранения данных, это нам поможет для осуществления быстрой работы ранжирования при дальнейшей работы алгоритма.\n",
    "\n",
    "Сперва предствим нашу коллекцию ввиде словаря, где:\n",
    "\n",
    "    Ключи – Название документа\n",
    "    Значения – Список, который содержит частотный словарь для текста и количетсво слов."
   ]
  },
  {
   "cell_type": "code",
   "execution_count": 159,
   "metadata": {
    "collapsed": true
   },
   "outputs": [],
   "source": [
    "folds = ['Friends - season 1', 'Friends - season 2', 'Friends - season 3',\n",
    "         'Friends - season 4', 'Friends - season 5', 'Friends - season 6',\n",
    "         'Friends - season 7']\n",
    "\n",
    "documents = defaultdict()\n",
    "\n",
    "dir_line = '/Users/macbook/Downloads/Friends/'\n",
    "\n",
    "for fold in folds:\n",
    "    local_dir = list(os.walk(os.path.abspath(fold)))\n",
    "    local_path = str(local_dir[0][0])\n",
    "    for text in local_dir[0][2]:\n",
    "        if '.txt' in text and type(text) == str:\n",
    "            with open(local_path + '/' + text) as file:\n",
    "                text_list, text_data = sharp_cleaning(file.read()), defaultdict()\n",
    "                for word in text_list:\n",
    "                    if not word in text_data:\n",
    "                        text_data[word] = 0\n",
    "                    text_data[word] += 1\n",
    "                documents[str(text)] = [text_data, len(text_list)]"
   ]
  },
  {
   "cell_type": "markdown",
   "metadata": {},
   "source": [
    "Выведем данные для рандомного текста нашей коллекции."
   ]
  },
  {
   "cell_type": "code",
   "execution_count": 160,
   "metadata": {},
   "outputs": [
    {
     "data": {
      "text/plain": [
       "[defaultdict(None,\n",
       "             {'!': 4,\n",
       "              \"''\": 1,\n",
       "              ',': 1,\n",
       "              '-': 24,\n",
       "              '--': 1,\n",
       "              '-да': 1,\n",
       "              '-эй': 1,\n",
       "              '.': 5,\n",
       "              '..': 4,\n",
       "              '...': 2,\n",
       "              '..а': 1,\n",
       "              '00:00:0,500': 1,\n",
       "              '00:00:2,00': 1,\n",
       "              '?': 1,\n",
       "              '``': 6,\n",
       "              'dais': 1,\n",
       "              'www.tvsubtitles.net': 1,\n",
       "              'а': 18,\n",
       "              'а-а': 1,\n",
       "              'а.': 1,\n",
       "              'абсолютно': 1,\n",
       "              'ага': 1,\n",
       "              'актёр': 1,\n",
       "              'актёрским': 1,\n",
       "              'алло': 3,\n",
       "              'афины': 2,\n",
       "              'ах': 5,\n",
       "              'аэропорт': 1,\n",
       "              'аэропорту': 1,\n",
       "              'беги': 1,\n",
       "              'беда': 1,\n",
       "              'без': 1,\n",
       "              'безумие': 1,\n",
       "              'белого': 1,\n",
       "              'беременность': 1,\n",
       "              'беру': 5,\n",
       "              'билета': 1,\n",
       "              'бифштексы': 1,\n",
       "              'боже': 2,\n",
       "              'болезни': 2,\n",
       "              'больше': 2,\n",
       "              'большой': 1,\n",
       "              'борту': 1,\n",
       "              'брат': 1,\n",
       "              'будем': 2,\n",
       "              'будет': 4,\n",
       "              'будто': 1,\n",
       "              'буду': 4,\n",
       "              'будут': 2,\n",
       "              'будущем': 1,\n",
       "              'булавку': 1,\n",
       "              'бы': 14,\n",
       "              'был': 4,\n",
       "              'была': 2,\n",
       "              'были': 2,\n",
       "              'было': 5,\n",
       "              'быстро': 1,\n",
       "              'быть': 3,\n",
       "              'в': 31,\n",
       "              'вам': 1,\n",
       "              'вас': 6,\n",
       "              'ваша': 1,\n",
       "              'вашему': 1,\n",
       "              'вдруг': 1,\n",
       "              'ведущий': 1,\n",
       "              'ведь': 3,\n",
       "              'везде': 2,\n",
       "              'верьте': 1,\n",
       "              'весело': 1,\n",
       "              'вестей': 1,\n",
       "              'вещами': 1,\n",
       "              'взаимозаменяемы': 1,\n",
       "              'ви-ина': 1,\n",
       "              'видел': 3,\n",
       "              'видеть': 1,\n",
       "              'вижу': 1,\n",
       "              'вина': 4,\n",
       "              'виноват': 1,\n",
       "              'вкусный': 1,\n",
       "              'влюблённый': 1,\n",
       "              'внимание': 1,\n",
       "              'во': 2,\n",
       "              'вобще': 2,\n",
       "              'вовремя': 1,\n",
       "              'водами': 1,\n",
       "              'возможности': 1,\n",
       "              'вокруг': 1,\n",
       "              'волнуюсь': 1,\n",
       "              'воспользуются': 1,\n",
       "              'вот': 5,\n",
       "              'впусти': 1,\n",
       "              'времени': 2,\n",
       "              'время': 3,\n",
       "              'вроде': 1,\n",
       "              'все': 2,\n",
       "              'вставать': 1,\n",
       "              'встретиься': 1,\n",
       "              'всю': 1,\n",
       "              'всё': 9,\n",
       "              'всё-таки': 1,\n",
       "              'вторых': 1,\n",
       "              'вы': 4,\n",
       "              'выгляжу': 1,\n",
       "              'выезде': 1,\n",
       "              'выйти': 1,\n",
       "              'вылезла': 1,\n",
       "              'вылетать': 1,\n",
       "              'вынь': 1,\n",
       "              'высадить': 1,\n",
       "              'высоко': 1,\n",
       "              'выше': 1,\n",
       "              'вышло': 1,\n",
       "              'гд..': 1,\n",
       "              'где': 2,\n",
       "              'геллер': 1,\n",
       "              'геллера': 1,\n",
       "              'гигант': 3,\n",
       "              'гиганте': 1,\n",
       "              'гиганты': 1,\n",
       "              'глаза': 1,\n",
       "              'говорит': 1,\n",
       "              'говорю': 1,\n",
       "              'говорят': 2,\n",
       "              'голову': 1,\n",
       "              'гораздо': 1,\n",
       "              'гости': 1,\n",
       "              'готова': 1,\n",
       "              'готовы': 2,\n",
       "              'да': 34,\n",
       "              'давай': 3,\n",
       "              'давайте': 1,\n",
       "              'даже': 2,\n",
       "              'дальше': 1,\n",
       "              'дважды': 1,\n",
       "              'двери': 1,\n",
       "              'движемся': 4,\n",
       "              'двояко': 1,\n",
       "              'девушка': 2,\n",
       "              'девятый': 1,\n",
       "              'дела': 1,\n",
       "              'делаешь': 2,\n",
       "              'делать': 5,\n",
       "              'деле': 2,\n",
       "              'детей': 1,\n",
       "              'джек': 1,\n",
       "              'джоуи': 2,\n",
       "              'для': 3,\n",
       "              'дня': 1,\n",
       "              'до': 1,\n",
       "              'доктор': 2,\n",
       "              'долго': 2,\n",
       "              'должен': 1,\n",
       "              'должна': 2,\n",
       "              'должны': 3,\n",
       "              'дома': 2,\n",
       "              'домой': 2,\n",
       "              'доргуша': 1,\n",
       "              'дорогая': 1,\n",
       "              'дочь': 1,\n",
       "              'друг': 2,\n",
       "              'другим': 1,\n",
       "              'другой': 2,\n",
       "              'дружбе': 1,\n",
       "              'друзья': 1,\n",
       "              'думаете': 1,\n",
       "              'думаешь': 2,\n",
       "              'думать': 1,\n",
       "              'думаю': 9,\n",
       "              'дурные': 1,\n",
       "              'его': 3,\n",
       "              'единение': 1,\n",
       "              'ей': 2,\n",
       "              'ели': 1,\n",
       "              'если': 8,\n",
       "              'есть': 3,\n",
       "              'ещё': 6,\n",
       "              'её': 7,\n",
       "              'жаль': 2,\n",
       "              'ждала': 1,\n",
       "              'ждущее': 1,\n",
       "              'же': 12,\n",
       "              'женат': 2,\n",
       "              'женился': 1,\n",
       "              'женитьба': 1,\n",
       "              'женой': 3,\n",
       "              'женские': 1,\n",
       "              'живу': 1,\n",
       "              'жизнь': 2,\n",
       "              'за': 6,\n",
       "              'забудь': 1,\n",
       "              'забыл': 2,\n",
       "              'заграничной': 1,\n",
       "              'займёмся': 2,\n",
       "              'займёшь': 1,\n",
       "              'заканчивается': 1,\n",
       "              'закон': 1,\n",
       "              'законной': 2,\n",
       "              'закричу': 1,\n",
       "              'закрыты': 1,\n",
       "              'заливай': 1,\n",
       "              'занимайся': 1,\n",
       "              'занимаюсь': 1,\n",
       "              'заперлась': 1,\n",
       "              'заплатили': 1,\n",
       "              'захожу': 1,\n",
       "              'зачем': 1,\n",
       "              'зашёл': 1,\n",
       "              'здесь': 4,\n",
       "              'здорово': 1,\n",
       "              'здоровье': 2,\n",
       "              'знает': 2,\n",
       "              'знаешь': 8,\n",
       "              'знак': 2,\n",
       "              'значило': 3,\n",
       "              'значит': 10,\n",
       "              'знаю': 10,\n",
       "              'зря': 1,\n",
       "              'и': 32,\n",
       "              'иди': 1,\n",
       "              'идиот': 2,\n",
       "              'идите': 1,\n",
       "              'идти': 2,\n",
       "              'из': 3,\n",
       "              'извини': 1,\n",
       "              'извините': 1,\n",
       "              'или': 3,\n",
       "              'им': 2,\n",
       "              'имена': 1,\n",
       "              'имя': 9,\n",
       "              'интериорс': 1,\n",
       "              'инуты': 1,\n",
       "              'искал': 1,\n",
       "              'искать': 1,\n",
       "              'испортил': 1,\n",
       "              'итак': 1,\n",
       "              'их': 3,\n",
       "              'йеппи': 1,\n",
       "              'к': 5,\n",
       "              'кажется': 2,\n",
       "              'как': 10,\n",
       "              'каой-то': 1,\n",
       "              'капитан': 1,\n",
       "              'кем-то': 1,\n",
       "              'кино': 1,\n",
       "              'класс': 1,\n",
       "              'клятву': 1,\n",
       "              'когда': 3,\n",
       "              'кого': 1,\n",
       "              'кого-то': 1,\n",
       "              'кое-что': 1,\n",
       "              'кольца': 1,\n",
       "              'кольцо': 2,\n",
       "              'конечно': 2,\n",
       "              'кормить': 1,\n",
       "              'коробка': 1,\n",
       "              'кошмар': 1,\n",
       "              'кривомордая': 1,\n",
       "              'кто': 3,\n",
       "              'ладно': 7,\n",
       "              'лежать': 1,\n",
       "              'лесбиянке': 1,\n",
       "              'лет': 1,\n",
       "              'лето': 1,\n",
       "              'ли': 1,\n",
       "              'ловить': 1,\n",
       "              'лондон': 2,\n",
       "              'лондоне': 2,\n",
       "              'лондонскому': 1,\n",
       "              'лучше': 1,\n",
       "              'лучшее': 1,\n",
       "              'лучшему': 1,\n",
       "              'любви': 1,\n",
       "              'любит': 1,\n",
       "              'люблю': 3,\n",
       "              'мама': 1,\n",
       "              'медовый': 1,\n",
       "              'между': 1,\n",
       "              'меня': 15,\n",
       "              'мерло': 1,\n",
       "              'месте': 2,\n",
       "              'месяц': 1,\n",
       "              'ми-и-': 1,\n",
       "              'миленький': 2,\n",
       "              'мимолётное': 1,\n",
       "              'минут': 4,\n",
       "              'минуты': 1,\n",
       "              'мне': 14,\n",
       "              'много': 3,\n",
       "              'мной': 4,\n",
       "              'мог': 1,\n",
       "              'могла': 1,\n",
       "              'могли': 2,\n",
       "              'могло': 1,\n",
       "              'могу': 10,\n",
       "              'можем': 2,\n",
       "              'может': 10,\n",
       "              'можешь': 5,\n",
       "              'мозга': 1,\n",
       "              'мозгу': 1,\n",
       "              'мой': 5,\n",
       "              'моложе': 1,\n",
       "              'мон': 1,\n",
       "              'мон-мон-моника': 1,\n",
       "              'моника': 2,\n",
       "              'моникой': 1,\n",
       "              'монику': 1,\n",
       "              'мою': 1,\n",
       "              'моя': 1,\n",
       "              'моё': 6,\n",
       "              'моём': 2,\n",
       "              'мужем': 1,\n",
       "              'мужик': 2,\n",
       "              'музыканты': 4,\n",
       "              'мы': 25,\n",
       "              'мысли': 1,\n",
       "              'мяса': 1,\n",
       "              'мясо': 1,\n",
       "              'на': 26,\n",
       "              'наверное': 1,\n",
       "              'навсегда': 1,\n",
       "              'над': 2,\n",
       "              'надень': 2,\n",
       "              'надеюсь': 1,\n",
       "              'надо': 8,\n",
       "              'назвать': 1,\n",
       "              'найти': 2,\n",
       "              'наконец-то': 1,\n",
       "              'нам': 4,\n",
       "              'нами': 1,\n",
       "              'напитками': 1,\n",
       "              'наплевал': 1,\n",
       "              'нас': 6,\n",
       "              'наука': 1,\n",
       "              'началась': 1,\n",
       "              'начнём': 1,\n",
       "              'наша': 1,\n",
       "              'нашей': 1,\n",
       "              'нашёл': 2,\n",
       "              'не': 61,\n",
       "              'невесту': 1,\n",
       "              'негде': 1,\n",
       "              'него': 1,\n",
       "              'нейтральными': 1,\n",
       "              'ненавижу': 1,\n",
       "              'неплохо': 2,\n",
       "              'нерушимых': 1,\n",
       "              'нет': 23,\n",
       "              'неудавшейся': 1,\n",
       "              'неудачник': 1,\n",
       "              'неудачником': 1,\n",
       "              'нехорошо': 1,\n",
       "              'никогда': 3,\n",
       "              'них..': 1,\n",
       "              'ничего': 7,\n",
       "              'ничем': 1,\n",
       "              'но': 17,\n",
       "              'новобрачных': 2,\n",
       "              'номер': 1,\n",
       "              'номера': 1,\n",
       "              'номере': 1,\n",
       "              'нормально': 2,\n",
       "              'носит': 1,\n",
       "              'ночь': 2,\n",
       "              'ну': 6,\n",
       "              'нужно': 1,\n",
       "              'нужном': 1,\n",
       "              'нью-йорк': 2,\n",
       "              'нью-йорке': 1,\n",
       "              'о': 14,\n",
       "              'обещайте': 1,\n",
       "              'обещал': 1,\n",
       "              'образуется': 1,\n",
       "              'обратно': 2,\n",
       "              'обращай': 1,\n",
       "              'объявление': 1,\n",
       "              'обыскал': 1,\n",
       "              'обьективно': 1,\n",
       "              'одежда': 1,\n",
       "              'одни': 1,\n",
       "              'одно': 1,\n",
       "              'одном': 1,\n",
       "              'означает': 2,\n",
       "              'ой': 2,\n",
       "              'ок': 1,\n",
       "              'оказался': 1,\n",
       "              'оказывается': 1,\n",
       "              'окей': 1,\n",
       "              'окно': 1,\n",
       "              'окружившей': 1,\n",
       "              'он': 11,\n",
       "              'она': 12,\n",
       "              'они': 2,\n",
       "              'особо': 1,\n",
       "              'осознаёт': 1,\n",
       "              'остальные': 1,\n",
       "              'останемся': 1,\n",
       "              'останусь': 1,\n",
       "              'остаться': 1,\n",
       "              'от': 1,\n",
       "              'отдыхаем': 1,\n",
       "              'отойти': 1,\n",
       "              'отправляться': 1,\n",
       "              'отпраздновать': 1,\n",
       "              'отрадное': 1,\n",
       "              'отразится': 1,\n",
       "              'оттуда': 1,\n",
       "              'ох': 2,\n",
       "              'очевидно': 1,\n",
       "              'очень': 6,\n",
       "              'очистить': 1,\n",
       "              'ошибка': 1,\n",
       "              'палец': 1,\n",
       "              'папа': 1,\n",
       "              'парень': 1,\n",
       "              'пассажиры': 1,\n",
       "              'первому': 1,\n",
       "              'первых': 1,\n",
       "              'переживёт': 1,\n",
       "              'перемещаюсь': 1,\n",
       "              'переодеваться': 1,\n",
       "              'переодеться': 2,\n",
       "              'персональный': 1,\n",
       "              'пиджак': 1,\n",
       "              'плакать': 1,\n",
       "              'планы': 1,\n",
       "              'плевать': 1,\n",
       "              'плотно': 1,\n",
       "              'плохие': 1,\n",
       "              'плохой': 1,\n",
       "              'пляжу': 1,\n",
       "              'по': 1,\n",
       "              'поверить': 1,\n",
       "              'повторяй': 2,\n",
       "              'погляди': 1,\n",
       "              'погоди': 2,\n",
       "              'подавать': 1,\n",
       "              'подаёт': 1,\n",
       "              'подвале': 1,\n",
       "              'подведи': 1,\n",
       "              'подождать': 1,\n",
       "              'подождите': 4,\n",
       "              'подсадку': 1,\n",
       "              'подумай': 1,\n",
       "              'подумал': 3,\n",
       "              'подумать': 1,\n",
       "              'поеду': 2,\n",
       "              'поехал': 1,\n",
       "              'пожалуй': 1,\n",
       "              'позвони': 1,\n",
       "              'поздно': 1,\n",
       "              'поздороваюсь': 1,\n",
       "              'пойду': 4,\n",
       "              'пойдём': 2,\n",
       "              'пойдёте': 1,\n",
       "              'пойдёшь': 1,\n",
       "              'пока': 5,\n",
       "              'полететь': 1,\n",
       "              'полностью': 1,\n",
       "              'получается': 1,\n",
       "              'получилось': 2,\n",
       "              'получит': 1,\n",
       "              'получше': 1,\n",
       "              'полчаса': 1,\n",
       "              'пользу': 1,\n",
       "              'помещение': 2,\n",
       "              'поможет': 1,\n",
       "              'помочь': 2,\n",
       "              'понимаешь': 2,\n",
       "              'понимаю': 1,\n",
       "              'понял': 1,\n",
       "              'понять': 2,\n",
       "              'попал': 1,\n",
       "              'попу': 1,\n",
       "              'посадка': 1,\n",
       "              'посадку': 1,\n",
       "              'последнее': 1,\n",
       "              'послушай': 1,\n",
       "              'послушайте': 1,\n",
       "              'посмотрели': 1,\n",
       "              'посмотри': 1,\n",
       "              'посмотрим': 1,\n",
       "              'посмотрю': 1,\n",
       "              'потому': 4,\n",
       "              'поцеловать': 1,\n",
       "              'почему': 3,\n",
       "              'почти': 2,\n",
       "              'пошли': 4,\n",
       "              'права': 3,\n",
       "              'правда': 3,\n",
       "              'правильно': 2,\n",
       "              'праздник': 1,\n",
       "              'представить': 1,\n",
       "              'прекрасный': 1,\n",
       "              'привет': 5,\n",
       "              'придаёт': 1,\n",
       "              'приду': 1,\n",
       "              'придём': 1,\n",
       "              'придёт': 1,\n",
       "              'приколи': 1,\n",
       "              'примерно': 1,\n",
       "              'пристрелил': 1,\n",
       "              'притвориться': 1,\n",
       "              'прихорашивается': 1,\n",
       "              'пришли': 1,\n",
       "              'приятель': 1,\n",
       "              'про': 1,\n",
       "              'провела': 1,\n",
       "              'продолжайте': 1,\n",
       "              'продолжать': 2,\n",
       "              'произнесли': 1,\n",
       "              'произносить': 1,\n",
       "              'произошло': 1,\n",
       "              'просидела': 1,\n",
       "              'проснуться': 1,\n",
       "              'просто': 8,\n",
       "              'прошло': 1,\n",
       "              'прямо': 1,\n",
       "              'пытается': 1,\n",
       "              'пыталась': 1,\n",
       "              'радости': 1,\n",
       "              'раз': 3,\n",
       "              'разве': 2,\n",
       "              'разговор': 1,\n",
       "              'разда-ача': 1,\n",
       "              'раздаче': 1,\n",
       "              'раздачу': 1,\n",
       "              'разлучит': 2,\n",
       "              'размера': 1,\n",
       "              'разочарованно': 1,\n",
       "              'рамы': 1,\n",
       "              'рано': 1,\n",
       "              'распаковываться': 1,\n",
       "              'расстроены': 1,\n",
       "              'растёт': 1,\n",
       "              'ребята': 3,\n",
       "              'рейс': 2,\n",
       "              'рейса': 1,\n",
       "              'рейч': 1,\n",
       "              'рейчел': 5,\n",
       "              'ремеслом': 1,\n",
       "              'родители': 1,\n",
       "              'родственники': 1,\n",
       "              'романтичной': 1,\n",
       "              'росс': 20,\n",
       "              'росса': 6,\n",
       "              'россом': 1,\n",
       "              'рост': 1,\n",
       "              'руку': 1,\n",
       "              'рядом': 3,\n",
       "              'с': 8,\n",
       "              'сам': 1,\n",
       "              'самец': 1,\n",
       "              'самое': 2,\n",
       "              'самолёт': 2,\n",
       "              'самом': 2,\n",
       "              'самому': 1,\n",
       "              'сас-стаитса': 1,\n",
       "              'сбивает': 1,\n",
       "              'свадьбе': 1,\n",
       "              'свадьбой': 1,\n",
       "              'свидания': 1,\n",
       "              'своей': 5,\n",
       "              'свой': 1,\n",
       "              'свою': 1,\n",
       "              'связующих': 1,\n",
       "              'сделай': 1,\n",
       "              'сделать': 1,\n",
       "              'себе': 1,\n",
       "              'сегодня': 2,\n",
       "              'сейчас': 2,\n",
       "              'секс': 2,\n",
       "              'секса': 3,\n",
       "              'сексуальна': 1,\n",
       "              'семь': 1,\n",
       "              'семье': 1,\n",
       "              'сесть': 1,\n",
       "              'скажете': 1,\n",
       "              'скажи': 1,\n",
       "              'скажите': 2,\n",
       "              'скажу': 1,\n",
       "              'сказал': 9,\n",
       "              'сказать': 3,\n",
       "              'скоро': 1,\n",
       "              'скрывается': 1,\n",
       "              'следующа-ая': 1,\n",
       "              'следующее': 1,\n",
       "              'случилось': 1,\n",
       "              'слушай': 4,\n",
       "              'смерть': 2,\n",
       "              'смогу': 1,\n",
       "              'смотрим': 2,\n",
       "              'смотрит': 1,\n",
       "              'смотрю': 1,\n",
       "              'смысле': 5,\n",
       "              'сначала': 2,\n",
       "              'со': 2,\n",
       "              'собрались': 1,\n",
       "              'совсем': 1,\n",
       "              'спасибо': 5,\n",
       "              'спросить': 2,\n",
       "              'среднего': 1,\n",
       "              'стаканчик': 1,\n",
       "              'старый': 1,\n",
       "              'стейки': 1,\n",
       "              'стекло': 1,\n",
       "              'стоит': 1,\n",
       "              'стой': 1,\n",
       "              'столик': 1,\n",
       "              'стою': 1,\n",
       "              'стране': 2,\n",
       "              'страсть': 2,\n",
       "              'субтитры': 1,\n",
       "              'сухого': 1,\n",
       "              'счастлив': 1,\n",
       "              'считается': 3,\n",
       "              'считаешь': 1,\n",
       "              'съесть': 1,\n",
       "              'та': 1,\n",
       "              'таблетки': 1,\n",
       "              'так': 25,\n",
       "              'такая': 1,\n",
       "              'такое': 1,\n",
       "              'такой': 1,\n",
       "              'такому': 1,\n",
       "              'там': 9,\n",
       "              'танцевать': 1,\n",
       "              'танцу': 1,\n",
       "              'танцуй': 1,\n",
       "              'тве': 1,\n",
       "              'тебе': 8,\n",
       "              'тебя': 10,\n",
       "              'теперь': 3,\n",
       "              'терапевт': 1,\n",
       "              'то': 7,\n",
       "              'тобой': 1,\n",
       "              'тогда': 2,\n",
       "              'тоже': 6,\n",
       "              'только': 3,\n",
       "              'торт': 1,\n",
       "              'тот': 1,\n",
       "              'точку': 1,\n",
       "              'трогать': 1,\n",
       "              'трудно': 1,\n",
       "              'туалет': 1,\n",
       "              'туалете': 3,\n",
       "              'туда': 3,\n",
       "              'тут': 10,\n",
       "              'ты': 41,\n",
       "              'у': 19,\n",
       "              'убежать': 1,\n",
       "              'убита': 1,\n",
       "              'увеличить': 1,\n",
       "              'увидимся': 1,\n",
       "              'увижу': 1,\n",
       "              'уж': 3,\n",
       "              'уже': 4,\n",
       "              'уз': 1,\n",
       "              'узнать': 1,\n",
       "              'улетать': 1,\n",
       "              'улыбайся': 1,\n",
       "              'умру': 1,\n",
       "              'уолтхейм': 1,\n",
       "              'уродов': 2,\n",
       "              'утком': 1,\n",
       "              'ух': 2,\n",
       "              'феленджи': 2,\n",
       "              'фелисити': 1,\n",
       "              'фиби': 5,\n",
       "              'фибс': 2,\n",
       "              'фильм': 1,\n",
       "              'формально': 1,\n",
       "              'ха': 1,\n",
       "              'хе': 1,\n",
       "              'хорош': 1,\n",
       "              'хорошо': 8,\n",
       "              'хотел': 1,\n",
       "              'хотела': 2,\n",
       "              'хотели': 1,\n",
       "              'хочет': 1,\n",
       "              'хочу': 2,\n",
       "              'хреново': 1,\n",
       "              'хуже': 2,\n",
       "              'хэй': 1,\n",
       "              'целая': 1,\n",
       "              'ценю': 1,\n",
       "              'церемонии': 1,\n",
       "              'цирк': 2,\n",
       "              'цыпом': 1,\n",
       "              'час': 1,\n",
       "              'чего': 1,\n",
       "              'чем': 1,\n",
       "              'чему': 1,\n",
       "              'чендлер': 1,\n",
       "              'через': 4,\n",
       "              'черрез': 1,\n",
       "              'черту': 1,\n",
       "              'четыре': 1,\n",
       "              'что': 45,\n",
       "              'что-то': 4,\n",
       "              'чтобы': 2,\n",
       "              'чтож': 2,\n",
       "              'чём': 1,\n",
       "              'чёрту': 1,\n",
       "              'э': 1,\n",
       "              'эй': 8,\n",
       "              'эмили': 17,\n",
       "              'эта': 3,\n",
       "              'эти': 2,\n",
       "              'этим': 1,\n",
       "              'это': 42,\n",
       "              'этого': 3,\n",
       "              'этот': 1,\n",
       "              'я': 85,\n",
       "              'ящика': 1,\n",
       "              '\\ufeff-': 1}),\n",
       " 1914]"
      ]
     },
     "execution_count": 160,
     "metadata": {},
     "output_type": "execute_result"
    }
   ],
   "source": [
    "documents[random.choice(list(documents.keys()))]"
   ]
  },
  {
   "cell_type": "markdown",
   "metadata": {},
   "source": [
    "Чтобы получить количество текстов в коллекции, просто надо посмотреть на длинну нашего словаря"
   ]
  },
  {
   "cell_type": "code",
   "execution_count": 161,
   "metadata": {},
   "outputs": [
    {
     "data": {
      "text/plain": [
       "165"
      ]
     },
     "execution_count": 161,
     "metadata": {},
     "output_type": "execute_result"
    }
   ],
   "source": [
    "len(documents)"
   ]
  },
  {
   "cell_type": "markdown",
   "metadata": {},
   "source": [
    "Чтобы посчитать среднюю длинну тектов коллекции, сложим все данные для каждого текста и поделим на длинну списка с длиннами."
   ]
  },
  {
   "cell_type": "code",
   "execution_count": 162,
   "metadata": {
    "collapsed": true
   },
   "outputs": [],
   "source": [
    "def mean_doc_len(coll):\n",
    "    result = []\n",
    "    for doc in coll:\n",
    "        result.append(int(coll[doc][1]))\n",
    "    return sum(result) / float(len(result))"
   ]
  },
  {
   "cell_type": "code",
   "execution_count": 163,
   "metadata": {},
   "outputs": [
    {
     "data": {
      "text/plain": [
       "2023.7575757575758"
      ]
     },
     "execution_count": 163,
     "metadata": {},
     "output_type": "execute_result"
    }
   ],
   "source": [
    "mean_doc_len(documents)"
   ]
  },
  {
   "cell_type": "markdown",
   "metadata": {},
   "source": [
    "Также для работы нашей формулы нам необходимо найти количество документов, где встречается слово из запроса."
   ]
  },
  {
   "cell_type": "code",
   "execution_count": 164,
   "metadata": {
    "collapsed": true
   },
   "outputs": [],
   "source": [
    "def query_occurrence(query, coll):\n",
    "    result = 0\n",
    "    for doc in coll:\n",
    "        if query.lower() in coll[doc][0]:\n",
    "            result += 1\n",
    "    return result"
   ]
  },
  {
   "cell_type": "code",
   "execution_count": 165,
   "metadata": {},
   "outputs": [
    {
     "data": {
      "text/plain": [
       "56"
      ]
     },
     "execution_count": 165,
     "metadata": {},
     "output_type": "execute_result"
    }
   ],
   "source": [
    "query_occurrence('Рэйчел', documents)"
   ]
  },
  {
   "cell_type": "markdown",
   "metadata": {},
   "source": [
    "Теперь все готово к работе с нашей формулой!"
   ]
  },
  {
   "cell_type": "code",
   "execution_count": 166,
   "metadata": {
    "collapsed": true
   },
   "outputs": [],
   "source": [
    "def compute_sim(query, document):\n",
    "    result = defaultdict()\n",
    "    N = len(documents)\n",
    "    avgdl = mean_doc_len(documents)\n",
    "    k1 = 2.0\n",
    "    b = 0.75\n",
    "    n = query_occurrence(query, documents)\n",
    "    dl = document[1]\n",
    "    try:\n",
    "        qf = document[0][str(query).lower()]\n",
    "    except KeyError:\n",
    "        qf = 0\n",
    "    return score_BM25(qf, dl, avgdl, k1, b, N, n)\n",
    "\n",
    "\n",
    "def get_search_result(query):\n",
    "    result = {}\n",
    "    words = query.split(' ')\n",
    "    for document in documents:\n",
    "        local_score = 0\n",
    "        for word in words:\n",
    "            local_score += compute_sim(word, documents[document])\n",
    "        result[str(document)] = local_score\n",
    "    return sorted(result.items(), key=lambda kv: kv[1], reverse=True)\n"
   ]
  },
  {
   "cell_type": "markdown",
   "metadata": {},
   "source": [
    "Ура, теперь только проверим на выражении 'рождественские каникулы'"
   ]
  },
  {
   "cell_type": "code",
   "execution_count": 167,
   "metadata": {},
   "outputs": [
    {
     "data": {
      "text/plain": [
       "[(\"Friends - 6x19 - The One With Joey's Fridge.ru.txt\", 6.62893145848959),\n",
       " (\"Friends - 2x09 - The One With Phoebe's Dad.ru.txt\", 6.490721263471384),\n",
       " ('Friends - 1x17 - The One With Two Parts (2).ru.txt', 5.452230363430965),\n",
       " ('Friends - 1x16 - The One With Two Parts (1).ru.txt', 5.39840804737953),\n",
       " ('Friends - 7x10 - The One With The Holiday Armadillo.ru.txt',\n",
       "  3.855784061289655),\n",
       " (\"Friends - 4x03 - The One With The 'Cuffs.ru.txt\", 3.6340813790887228),\n",
       " ('Friends - 6x09 - The One Where Ross Got High.ru.txt', 3.6203441870433157),\n",
       " ('Friends - 7x05 - The One With The Engagement Picture.ru.txt', 0.0),\n",
       " ('Friends - 1x15 - The One With The Stoned Guy.ru.txt', 0.0),\n",
       " ('Friends - 6x04 - The One Where Joey Loses His Insurance.ru.txt', 0.0)]"
      ]
     },
     "execution_count": 167,
     "metadata": {},
     "output_type": "execute_result"
    }
   ],
   "source": [
    "get_search_result('рождественские каникулы')[:10]"
   ]
  },
  {
   "cell_type": "markdown",
   "metadata": {},
   "source": [
    "Теперь у нас есть словарь, где каждому названию файла (ключ) соответсвует его score (значение).\n",
    "\n",
    "Красиво выведем перые пять результатов."
   ]
  },
  {
   "cell_type": "code",
   "execution_count": 168,
   "metadata": {},
   "outputs": [
    {
     "name": "stdout",
     "output_type": "stream",
     "text": [
      "For query \"Рождественские каникулы\" the algorithm finished working with top 10 result:\n",
      "\n",
      "File name:\tFriends - 6x19 - The One With Joey's Fridge.ru.txt\n",
      "Okapi25 score:\t6.62893145848959.\n",
      "\n",
      "File name:\tFriends - 2x09 - The One With Phoebe's Dad.ru.txt\n",
      "Okapi25 score:\t6.490721263471384.\n",
      "\n",
      "File name:\tFriends - 1x17 - The One With Two Parts (2).ru.txt\n",
      "Okapi25 score:\t5.452230363430965.\n",
      "\n",
      "File name:\tFriends - 1x16 - The One With Two Parts (1).ru.txt\n",
      "Okapi25 score:\t5.39840804737953.\n",
      "\n",
      "File name:\tFriends - 7x10 - The One With The Holiday Armadillo.ru.txt\n",
      "Okapi25 score:\t3.855784061289655.\n",
      "\n",
      "File name:\tFriends - 4x03 - The One With The 'Cuffs.ru.txt\n",
      "Okapi25 score:\t3.6340813790887228.\n",
      "\n",
      "File name:\tFriends - 6x09 - The One Where Ross Got High.ru.txt\n",
      "Okapi25 score:\t3.6203441870433157.\n",
      "\n",
      "File name:\tFriends - 7x05 - The One With The Engagement Picture.ru.txt\n",
      "Okapi25 score:\t0.0.\n",
      "\n",
      "File name:\tFriends - 1x15 - The One With The Stoned Guy.ru.txt\n",
      "Okapi25 score:\t0.0.\n",
      "\n",
      "File name:\tFriends - 6x04 - The One Where Joey Loses His Insurance.ru.txt\n",
      "Okapi25 score:\t0.0.\n",
      "\n"
     ]
    }
   ],
   "source": [
    "query = 'Рождественские каникулы'\n",
    "\n",
    "print('For query \"%s\" the algorithm finished working with top 10 result:\\n' % (query))\n",
    "\n",
    "for el in get_search_result(query)[:10]:\n",
    "    print ('File name:\\t%s\\nOkapi25 score:\\t%s.\\n' % (str(el[0]), str(el[1])))"
   ]
  }
 ],
 "metadata": {
  "kernelspec": {
   "display_name": "Python 3",
   "language": "python",
   "name": "python3"
  },
  "language_info": {
   "codemirror_mode": {
    "name": "ipython",
    "version": 3
   },
   "file_extension": ".py",
   "mimetype": "text/x-python",
   "name": "python",
   "nbconvert_exporter": "python",
   "pygments_lexer": "ipython3",
   "version": "3.5.2"
  }
 },
 "nbformat": 4,
 "nbformat_minor": 2
}
