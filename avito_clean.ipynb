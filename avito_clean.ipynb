{
 "cells": [
  {
   "cell_type": "markdown",
   "metadata": {},
   "source": [
    "#### Итак, парсинг сайта avito, или же подготовка к проекту по Информационному поиску 2018.\n",
    "\n",
    "Сперва импортиуем необходимые модули.\n",
    "\n",
    "Запросы осуществляются с помощью **requests**\n",
    "\n",
    "Парсинг HTML кода с помощью **BeautifulSoup**\n",
    "\n",
    "**time.sleep** для того, чтобы нас не банил сайт\n",
    "\n",
    "**pickle** для промежуточного сохранения результатов\n",
    "\n",
    "**datetime** для форматирования даты в объявлении"
   ]
  },
  {
   "cell_type": "code",
   "execution_count": null,
   "metadata": {
    "collapsed": true
   },
   "outputs": [],
   "source": [
    "import requests\n",
    "from bs4 import BeautifulSoup\n",
    "from time import sleep\n",
    "import random\n",
    "import pickle\n",
    "import warnings\n",
    "import datetime\n",
    "\n",
    "warnings.filterwarnings('ignore')"
   ]
  },
  {
   "cell_type": "markdown",
   "metadata": {},
   "source": [
    "Сперва я решил выкачить 10000 ссылок. Чтобы если что-то сломается, то не все будет потеряно.\n",
    "\n",
    "В функции:\n",
    "    \n",
    "    data – Список, куда складывается ссылки\n",
    "    root – Основание ссылок\n",
    "    pages – Количество страниц, которые надо обойти программе"
   ]
  },
  {
   "cell_type": "code",
   "execution_count": null,
   "metadata": {
    "collapsed": true
   },
   "outputs": [],
   "source": [
    "def get_links(data, root, pages):\n",
    "    print('...Function init...')\n",
    "    for page in range(1, pages):\n",
    "        local_link = '{}/rossiya/mototsikly_i_mototehnika?p={}&view=list'.format(root, page)\n",
    "        print('...Link {} in process...'.format(local_link))\n",
    "        soup = BeautifulSoup(requests.get(local_link).text, 'html')\n",
    "        for item in soup.find_all('a', attrs={'class':'description-title-link'}):\n",
    "            data.append('{}{}'.format(root, item.get('href')))\n",
    "        print('...Link parsed...'.format(local_link))\n",
    "        sleep(random.randint(8, 10))"
   ]
  },
  {
   "cell_type": "code",
   "execution_count": null,
   "metadata": {
    "collapsed": true
   },
   "outputs": [],
   "source": [
    "get_links(links, main_link, 120)"
   ]
  },
  {
   "cell_type": "markdown",
   "metadata": {},
   "source": [
    "Теперь проверим скольку у нас уникальных ссылок и все ли они содержат нашу тематику."
   ]
  },
  {
   "cell_type": "code",
   "execution_count": null,
   "metadata": {
    "collapsed": true
   },
   "outputs": [],
   "source": [
    "links = list(set(links))\n",
    "\n",
    "print(len(links))\n",
    "\n",
    "for link in links:\n",
    "    if 'mototsikly_i_mototehnika' in link:\n",
    "        continue\n",
    "    else:\n",
    "        print('False')"
   ]
  },
  {
   "cell_type": "markdown",
   "metadata": {},
   "source": [
    "Сохраним ссылки, чтобы не потерять наш прогресс"
   ]
  },
  {
   "cell_type": "code",
   "execution_count": null,
   "metadata": {
    "collapsed": true
   },
   "outputs": [],
   "source": [
    "with open('links.pickle', 'wb') as f:\n",
    "    pickle.dump(links, f)"
   ]
  },
  {
   "cell_type": "markdown",
   "metadata": {},
   "source": [
    "Теперь нам неоходимо достать информацию. Создади словарь месяцев для обработки даты и функции для вытяивания информации с помощью BS4"
   ]
  },
  {
   "cell_type": "code",
   "execution_count": null,
   "metadata": {
    "collapsed": true
   },
   "outputs": [],
   "source": [
    "month = {'января':'01',\n",
    "         'февраля':'02',\n",
    "         'марта':'03',\n",
    "         'апреля':'04',\n",
    "         'мая':'05',\n",
    "         'июня':'06',\n",
    "         'Июля':'07',\n",
    "         'августа':'08',\n",
    "         'сентября':'09',\n",
    "         'октября':'10',\n",
    "         'ноября':'11',\n",
    "         'декабря':'12'}\n",
    "\n",
    "\n",
    "def get_date(soup):\n",
    "    try:\n",
    "        line = (soup.find('div',\n",
    "                          attrs={'class':'title-info-metadata-item'}).get_text())\n",
    "        date = line.split('размещено')[1]\n",
    "        if 'сегодня' in date:\n",
    "            return datetime.date.today()\n",
    "        elif 'вчера' in date:\n",
    "            return datetime.date.today() - datetime.timedelta(1)\n",
    "        else:\n",
    "            date = date.split()\n",
    "            return '2018-{}-{}'.format(month[date[1]], date[0])\n",
    "    except AttributeError:\n",
    "        return 'None'\n",
    "\n",
    "    \n",
    "def get_title(soup):\n",
    "    try:\n",
    "        line = soup.find('span',\n",
    "                         attrs={'class':'title-info-title-text'}).get_text()\n",
    "        return line\n",
    "    except AttributeError:\n",
    "        return 'None'\n",
    "    \n",
    "    \n",
    "def get_title(soup):\n",
    "    try:\n",
    "        line = soup.find('span',\n",
    "                         attrs={'class':'title-info-title-text'}).get_text()\n",
    "        return line\n",
    "    except AttributeError:\n",
    "        return 'None'\n",
    "    \n",
    "\n",
    "def get_address(soup):\n",
    "    try:\n",
    "        address = soup.find('span',\n",
    "                            attrs={'itemprop':'streetAddress'}).get_text().replace('\\n', '')\n",
    "        return address\n",
    "    except AttributeError:\n",
    "        address = 'None'\n",
    "\n",
    "        \n",
    "def get_price(soup):\n",
    "    try:\n",
    "        price = '{}{}'.format(soup.find('span',\n",
    "                                        attrs={'class':'js-item-price'}).get_text(),\n",
    "                              soup.find('span',\n",
    "                                        attrs={'class':'font_arial-rub'}).get_text())\n",
    "        return price\n",
    "    except AttributeError:\n",
    "        return 'None'\n",
    "    \n",
    "    \n",
    "def get_description(soup):\n",
    "    try:\n",
    "        description = soup.find('div',\n",
    "                                attrs={'class':'item-description-text'}).get_text().replace('\\n', '')\n",
    "        return description\n",
    "    except AttributeError:\n",
    "        return 'None'"
   ]
  },
  {
   "cell_type": "markdown",
   "metadata": {},
   "source": [
    "Теперь напишим функцию для формирования самого текста, который я буду записывать в файлы"
   ]
  },
  {
   "cell_type": "code",
   "execution_count": null,
   "metadata": {
    "collapsed": true
   },
   "outputs": [],
   "source": [
    "def form_text(link):\n",
    "    soup = BeautifulSoup(requests.get(link).text, 'html')\n",
    "    date = get_date(soup)\n",
    "    address = get_address(soup)\n",
    "    title = get_title(soup)\n",
    "    price = get_price(soup)\n",
    "    description = get_description(soup)\n",
    "    result = 'Title:\\t{}\\nDate:\\t{}\\nAdress:\\t{}\\nPrice:\\t{}\\nComment:{}\\n'.format(title,\n",
    "                                                                                     date,\n",
    "                                                                                     address,\n",
    "                                                                                     price,\n",
    "                                                                                     description)\n",
    "    return result"
   ]
  },
  {
   "cell_type": "markdown",
   "metadata": {},
   "source": [
    "Проверка работоспособности..."
   ]
  },
  {
   "cell_type": "code",
   "execution_count": null,
   "metadata": {
    "collapsed": true
   },
   "outputs": [],
   "source": [
    "print(form_text('https://www.avito.ru/kaliningrad/mototsikly_i_mototehnika/daelim_roadwin_125_2008_g._v_465758898'))"
   ]
  },
  {
   "cell_type": "markdown",
   "metadata": {},
   "source": [
    "Запускаем цикл загрузки и ждем окончания работы нашей программы."
   ]
  },
  {
   "cell_type": "code",
   "execution_count": null,
   "metadata": {
    "collapsed": true
   },
   "outputs": [],
   "source": [
    "for link in links:\n",
    "    file_name = link.split('/')[len(link.split('/')) - 1]\n",
    "    with open('avito_files/' + str(file_name) + '.txt', 'w') as f:\n",
    "        try:\n",
    "            f.write(form_text(link))\n",
    "            f.write('Link:\\t{}\\n'.format(str(link)))\n",
    "            print('Link {} parsed. Saved as \"{}\"'.format(num, str(file_name)))\n",
    "        except IndexError:\n",
    "            print('>>> BROKEN LINK N.{} <<<'.format(num))\n",
    "        num += 1\n",
    "        sleep(random.randint(8, 10))"
   ]
  },
  {
   "cell_type": "markdown",
   "metadata": {},
   "source": [
    "С реальной работой данной программы можно ознакомиться в файле avito.ipynb.\n",
    "Возможно, там код немного отличается, но делает он абсолютно то же)"
   ]
  }
 ],
 "metadata": {
  "kernelspec": {
   "display_name": "Python 3",
   "language": "python",
   "name": "python3"
  },
  "language_info": {
   "codemirror_mode": {
    "name": "ipython",
    "version": 3
   },
   "file_extension": ".py",
   "mimetype": "text/x-python",
   "name": "python",
   "nbconvert_exporter": "python",
   "pygments_lexer": "ipython3",
   "version": "3.5.2"
  }
 },
 "nbformat": 4,
 "nbformat_minor": 2
}
