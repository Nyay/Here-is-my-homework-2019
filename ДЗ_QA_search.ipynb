{
 "cells": [
  {
   "cell_type": "markdown",
   "metadata": {},
   "source": [
    "## ДЗ по поиску\n",
    "\n",
    "Привет! Вам надо реализивать поисковик на базе вопросов-ответов с сайта [pravoved.ru](https://pravoved.ru/questions-archive/).        \n",
    "Поиск должен работать на трех технологиях:       \n",
    "1. обратном индексе     \n",
    "2. word2vec         \n",
    "3. doc2vec      \n",
    "\n",
    "Вы должны понять, какой метод и при каких условиях эксперимента на этом корпусе работает лучше.          \n",
    "Для измерения качества поиска найдите точность (accuracy) выпадания правильного ответа на конкретный вопрос (в этой базе у каждого вопроса есть только один правильный ответ). Точность нужно измерить для всей базы.    \n",
    "При этом давайте считать, что выпал правильный ответ, если он попал в **топ-5** поисковой выдачи.\n",
    "\n",
    "> Сделайте ваш поиск максимально качественным, чтобы значение точности стремилось к 1.     \n",
    "Для этого можно поэкспериментировать со следующим:       \n",
    "- модель word2vec (можно брать любую из опен сорса или обучить свою)\n",
    "- способ получения вектора документа через word2vec: простое среднее арифметическое или взвешивать каждый вектор в соответствии с его tf-idf      \n",
    "- количество эпох у doc2vec (начинайте от 100)\n",
    "- предобработка документов для обучения doc2vec (удалять / не удалять стоп-слова)\n",
    "- блендинг методов поиска: соединить результаты обратного индекса и w2v, или (что проще) w2v и d2v\n",
    "\n",
    "На это задание отведем 10 дней. Дэдлайн сдачи до полуночи 12.10."
   ]
  },
  {
   "cell_type": "code",
   "execution_count": 156,
   "metadata": {
    "collapsed": true
   },
   "outputs": [],
   "source": [
    "import pickle\n",
    "\n",
    "with open('qa_corpus.pkl', 'rb') as file:\n",
    "    qa_corpus = pickle.load(file)"
   ]
  },
  {
   "cell_type": "markdown",
   "metadata": {},
   "source": [
    "Всего в корпусе 1384 пары вопрос-ответ"
   ]
  },
  {
   "cell_type": "code",
   "execution_count": 157,
   "metadata": {},
   "outputs": [
    {
     "data": {
      "text/plain": [
       "1384"
      ]
     },
     "execution_count": 157,
     "metadata": {},
     "output_type": "execute_result"
    }
   ],
   "source": [
    "len(qa_corpus)"
   ]
  },
  {
   "cell_type": "markdown",
   "metadata": {},
   "source": [
    "Первый элемент блока это вопрос, второй - ответ на него"
   ]
  },
  {
   "cell_type": "code",
   "execution_count": 158,
   "metadata": {},
   "outputs": [
    {
     "data": {
      "text/plain": [
       "['\\nДобрый день.Мой сын гражданин Украины (ДНР),имеет вид на жительство в Р.Ф., кот.получил проживая с 2014 г. в Нижегородской области.В 2017г. переехал на постоянное место жительство в г.Ростов.Официально трудоустроился на одно из промышл.предприятий г.Ростова.Оформил временную регистрацию в Ростове.В УФМС предупредили,что по истечении 90 дней он должен либо постоянно прописаться либо покинуть территорию России.Прошу проконсультировать как быть дальше.(Вернуться домой в Донецк,но здесь идет война,работы нет.В Ростове он работает по специальности.Он инженер машиностроитель.)Временная прописка до 15 марта.  Если он сможет приобрести какую либо недвижимость,как долго будет решаться вопрос о его постоянной прописке в Ростове.Как в этом случае будет решаться вопрос с видом на жительство в Ростове? Не получится ли ,что приобретя квартиру,он не успеет в ней прописаться до окончании срока временной регистрации. С уважением Людмила Евгеньевна.\\n',\n",
       " 'Добрый вечер!Из Вашего вопроса вообще ничего не ясно.Ваш сын по ВНЖ в Нижегородской обл. сделал временную\\xa0 на 90 дней в Ростове? Так? Или в чем заключается вопрос?С ув., АлёнаМиграционный юристРостов-на-Дону ']"
      ]
     },
     "execution_count": 158,
     "metadata": {},
     "output_type": "execute_result"
    }
   ],
   "source": [
    "qa_corpus[0]"
   ]
  },
  {
   "cell_type": "code",
   "execution_count": 159,
   "metadata": {
    "collapsed": true
   },
   "outputs": [],
   "source": [
    "import gensim\n",
    "import string\n",
    "import re\n",
    "import json\n",
    "from pymystem3 import Mystem\n",
    "from gensim import matutils\n",
    "import numpy as np \n",
    "import pandas as pd\n",
    "from nltk import word_tokenize\n",
    "from nltk.corpus import stopwords\n",
    "from gensim.models import Word2Vec, KeyedVectors\n",
    "from collections import defaultdict\n",
    "import warnings\n",
    "\n",
    "warnings.filterwarnings('ignore')\n",
    "mystem = Mystem()"
   ]
  },
  {
   "cell_type": "code",
   "execution_count": 160,
   "metadata": {
    "collapsed": true
   },
   "outputs": [],
   "source": [
    "model_path = '/Users/macbook/Downloads/araneum_none_fasttextcbow_300_5_2018/araneum_none_fasttextcbow_300_5_2018.model'\n",
    "model = Word2Vec.load(model_path)"
   ]
  },
  {
   "cell_type": "code",
   "execution_count": 161,
   "metadata": {
    "collapsed": true
   },
   "outputs": [],
   "source": [
    "def preprocessing(input_text, del_stopwords=True, del_digit=True):\n",
    "    \"\"\"\n",
    "    :input: raw text\n",
    "        1. lowercase, del punctuation, tokenize\n",
    "        2. normal form\n",
    "        3. del stopwords\n",
    "        4. del digits\n",
    "    :return: lemmas\n",
    "    \"\"\"\n",
    "    russian_stopwords = set(stopwords.words('russian'))\n",
    "    words = [x.lower().strip(string.punctuation+'»«–…') for x in word_tokenize(input_text)]\n",
    "    lemmas = [mystem.lemmatize(x)[0] for x in words if x]\n",
    "\n",
    "    lemmas_arr = []\n",
    "    for lemma in lemmas:\n",
    "        if del_stopwords:\n",
    "            if lemma in russian_stopwords:\n",
    "                continue\n",
    "        if del_digit:\n",
    "            if lemma.isdigit():\n",
    "                continue\n",
    "        lemmas_arr.append(lemma)\n",
    "    return lemmas_arr"
   ]
  },
  {
   "cell_type": "code",
   "execution_count": 162,
   "metadata": {
    "collapsed": true
   },
   "outputs": [],
   "source": [
    "done = pred_data"
   ]
  },
  {
   "cell_type": "code",
   "execution_count": 163,
   "metadata": {
    "collapsed": true
   },
   "outputs": [],
   "source": [
    "def w2v_vector(word_list):\n",
    "    some = []\n",
    "    for word in word_list:\n",
    "        try:\n",
    "            some.append(model.wv[str(word)])\n",
    "        except KeyError:\n",
    "            continue\n",
    "    return matutils.unitvec(np.array(sum(some)))"
   ]
  },
  {
   "cell_type": "code",
   "execution_count": 102,
   "metadata": {
    "collapsed": true
   },
   "outputs": [],
   "source": [
    "index = 1\n",
    "\n",
    "data = defaultdict()\n",
    "\n",
    "for item in qa_corpus:\n",
    "    data[index] = [w2v_vector(preprocessing(item[0])), item[1]]\n",
    "    index += 1"
   ]
  },
  {
   "cell_type": "code",
   "execution_count": 113,
   "metadata": {
    "collapsed": true
   },
   "outputs": [],
   "source": [
    "def search(query):\n",
    "    query_vector = w2v_vector(preprocessing(query))\n",
    "    local_data = defaultdict()\n",
    "    for item in data:\n",
    "        local_data[similarity(query_vector, data[item][0])] = item \n",
    "    for el in sorted(local_data, reverse=True)[:5]:\n",
    "        yield local_data[el]"
   ]
  },
  {
   "cell_type": "code",
   "execution_count": 109,
   "metadata": {
    "collapsed": true
   },
   "outputs": [],
   "source": [
    "def similarity(v1, v2):\n",
    "    return np.dot(v1, v2)"
   ]
  },
  {
   "cell_type": "code",
   "execution_count": 121,
   "metadata": {},
   "outputs": [
    {
     "data": {
      "text/plain": [
       "[1352, 947, 817, 843, 625, 793, 791, 798, 1071, 703]"
      ]
     },
     "execution_count": 121,
     "metadata": {},
     "output_type": "execute_result"
    }
   ],
   "source": [
    "list(search('Как жить в России'))"
   ]
  },
  {
   "cell_type": "code",
   "execution_count": 146,
   "metadata": {
    "collapsed": true
   },
   "outputs": [],
   "source": [
    "def search(query):\n",
    "    query_vector = w2v_vector(preprocessing(query))\n",
    "    local_data = defaultdict()\n",
    "    for item in data:\n",
    "        local_data[similarity(query_vector, data[item][0])] = item \n",
    "    for el in sorted(local_data, reverse=True)[:5]:\n",
    "        yield data[local_data[el]][1]"
   ]
  },
  {
   "cell_type": "code",
   "execution_count": 141,
   "metadata": {
    "collapsed": true
   },
   "outputs": [],
   "source": [
    "def testing():\n",
    "    print(data[1])"
   ]
  },
  {
   "cell_type": "code",
   "execution_count": 142,
   "metadata": {},
   "outputs": [
    {
     "name": "stdout",
     "output_type": "stream",
     "text": [
      "[array([  7.15986267e-02,   4.11028452e-02,  -8.47221687e-02,\n",
      "         4.86208946e-02,  -1.26518831e-01,  -3.15667130e-02,\n",
      "         9.50335190e-02,   1.51726818e-02,   1.07730515e-01,\n",
      "         3.60690504e-02,  -6.45365007e-03,  -6.23325519e-02,\n",
      "        -2.51616500e-02,   1.95927210e-02,   1.80515628e-02,\n",
      "        -8.75344649e-02,   8.88505057e-02,   6.65214669e-04,\n",
      "        -2.43865643e-02,  -4.21775728e-02,   4.49636392e-02,\n",
      "        -1.56622469e-01,   2.01686174e-02,   5.88442999e-05,\n",
      "         3.48556833e-03,  -6.02354528e-03,  -3.61343436e-02,\n",
      "         1.87353920e-02,  -3.14579234e-02,  -5.91415800e-02,\n",
      "        -8.81366283e-02,  -8.79356638e-02,   1.28511153e-02,\n",
      "         4.13270928e-02,   1.14664324e-01,   7.63024390e-02,\n",
      "         5.22525422e-03,  -1.04037803e-02,  -4.73733526e-03,\n",
      "        -1.71672292e-02,   6.65300526e-03,   6.07886985e-02,\n",
      "        -5.15172891e-02,   7.87028745e-02,   2.72175595e-02,\n",
      "        -5.55477068e-02,   4.33116071e-02,   3.12198531e-02,\n",
      "         7.64377639e-02,  -9.76738408e-02,  -6.64441437e-02,\n",
      "         1.40458308e-02,   2.46144328e-02,  -1.03690647e-01,\n",
      "         5.18571623e-02,   1.66278314e-02,   1.30092364e-03,\n",
      "         4.25566770e-02,   4.02583964e-02,   5.33361873e-03,\n",
      "        -3.58859152e-02,   2.00707242e-02,   1.66390277e-02,\n",
      "         7.99687766e-03,  -7.96038508e-02,  -9.58112441e-03,\n",
      "        -3.67654525e-02,   2.24716794e-02,  -7.06627071e-02,\n",
      "         4.53945063e-03,  -2.67559022e-04,   3.42638865e-02,\n",
      "        -2.14511063e-02,   3.67648751e-02,   4.84555326e-02,\n",
      "        -3.08425985e-02,   4.43092845e-02,  -2.85720546e-02,\n",
      "         5.72811849e-02,   5.90424472e-03,   6.29378706e-02,\n",
      "        -3.28147523e-02,   1.28329545e-02,  -9.42477360e-02,\n",
      "         9.21764784e-03,   2.70748371e-03,  -2.92621646e-02,\n",
      "        -4.31364179e-02,   7.20018074e-02,  -2.94467751e-02,\n",
      "         4.54620942e-02,  -5.05950637e-02,  -6.28926838e-03,\n",
      "         1.03403404e-02,   6.23969547e-02,  -4.68105935e-02,\n",
      "         1.54694915e-02,  -1.95770469e-02,  -7.94184580e-02,\n",
      "         2.24821772e-02,   2.74841819e-04,  -9.75552052e-02,\n",
      "        -1.23348035e-01,  -8.07664916e-03,  -9.13178548e-03,\n",
      "         1.78520493e-02,   7.37143168e-03,   7.17152935e-03,\n",
      "        -2.67084148e-02,  -3.13793905e-02,  -1.04189657e-01,\n",
      "        -1.73463020e-02,   4.23371121e-02,   4.57719341e-02,\n",
      "         8.27366859e-03,   1.63082331e-02,   2.45958250e-02,\n",
      "         1.61060676e-01,   6.49322569e-02,  -1.90767311e-02,\n",
      "        -1.51245221e-02,  -8.52829814e-02,  -8.82920101e-02,\n",
      "        -4.15411545e-03,   3.67819741e-02,  -1.06331028e-01,\n",
      "         1.42635712e-02,   8.11163485e-02,   2.75196717e-03,\n",
      "        -3.18699777e-02,   5.17280176e-02,  -8.32937658e-03,\n",
      "         2.80623194e-02,  -1.91029254e-02,  -1.51007511e-02,\n",
      "         1.09414505e-02,   6.40627444e-02,   6.67492077e-02,\n",
      "        -6.09644316e-03,  -3.11853159e-02,  -8.33821017e-03,\n",
      "         1.21464007e-01,  -6.83114529e-02,   9.03183445e-02,\n",
      "         1.81749389e-02,  -6.87809810e-02,  -2.25506332e-02,\n",
      "        -8.31221044e-02,  -5.51712848e-02,  -3.21459048e-03,\n",
      "         8.18658918e-02,  -2.84608733e-02,  -4.76832241e-02,\n",
      "         1.36753097e-01,   7.35443383e-02,   1.13499433e-01,\n",
      "        -1.37081891e-01,  -3.45915593e-02,  -5.15656061e-02,\n",
      "         7.65099078e-02,   4.30006497e-02,   1.26895189e-01,\n",
      "         1.13382423e-02,  -1.71263851e-02,   8.04464519e-02,\n",
      "         3.70281488e-02,   2.69321501e-02,   5.70574142e-02,\n",
      "         2.56936084e-02,   4.70536947e-02,   3.84548865e-02,\n",
      "         2.26464923e-02,  -1.20360643e-01,  -1.81167405e-02,\n",
      "        -2.00629793e-03,  -2.03372724e-02,  -4.32188995e-02,\n",
      "         4.90805358e-02,   7.10725859e-02,   4.74848710e-02,\n",
      "        -3.54677662e-02,   3.98713239e-02,   7.94400275e-03,\n",
      "         3.99987325e-02,   8.91482923e-03,  -1.03351496e-01,\n",
      "         1.63704052e-03,  -8.61443803e-02,   2.93174908e-02,\n",
      "        -8.26849788e-02,  -5.58679663e-02,  -3.32583971e-02,\n",
      "        -1.53575549e-02,   6.87645897e-02,  -2.09321156e-02,\n",
      "         7.60080665e-02,  -4.41455655e-02,  -2.99916305e-02,\n",
      "         1.39359934e-02,  -7.32796043e-02,  -1.72599889e-02,\n",
      "        -5.33570675e-03,   1.25577599e-01,  -3.15209776e-02,\n",
      "        -3.47569142e-03,   7.58740818e-04,  -2.83903675e-04,\n",
      "         5.79642914e-02,  -2.70680971e-02,  -1.68679729e-02,\n",
      "         4.14628386e-02,  -5.79298809e-02,  -7.18325153e-02,\n",
      "         4.29364219e-02,   5.47375046e-02,   7.06115784e-03,\n",
      "         5.91643564e-02,   1.18679823e-02,  -9.72961038e-02,\n",
      "        -1.26468679e-02,  -1.21487081e-02,  -7.06195831e-02,\n",
      "        -1.00340933e-01,   5.13275899e-02,  -5.66682629e-02,\n",
      "         1.77056547e-02,   2.57735774e-02,   8.02801996e-02,\n",
      "         1.17853619e-01,  -5.11319973e-02,  -8.94197635e-03,\n",
      "        -6.92563206e-02,  -4.60263863e-02,  -4.76136208e-02,\n",
      "         3.01703438e-03,   3.84825245e-02,  -9.64941680e-02,\n",
      "        -1.46870449e-01,   6.96159825e-02,  -1.93414255e-03,\n",
      "        -3.60830408e-03,   3.93071435e-02,   1.07572805e-02,\n",
      "         5.27703483e-03,  -1.29152209e-01,  -5.94497006e-03,\n",
      "         8.56355280e-02,  -7.71724135e-02,   6.00694008e-02,\n",
      "         1.82827972e-02,   1.11259716e-02,   9.54348743e-02,\n",
      "         4.11627116e-03,  -2.31803558e-03,   7.37781003e-02,\n",
      "         4.51746769e-02,  -3.70450728e-02,  -1.16235718e-01,\n",
      "         7.91015625e-02,  -7.01617002e-02,   7.23035634e-02,\n",
      "         1.66564528e-02,   7.79890269e-02,  -3.11943535e-02,\n",
      "         1.60450116e-02,  -2.22211014e-02,  -5.79034127e-02,\n",
      "         1.07365988e-01,   1.02949731e-01,  -3.35563682e-02,\n",
      "        -5.79341017e-02,  -3.23299281e-02,  -8.29101354e-02,\n",
      "         5.70902787e-02,   5.71058517e-05,   6.10857047e-02,\n",
      "         1.66610125e-02,   5.74562438e-02,   2.94363406e-02,\n",
      "        -9.30779986e-03,   8.10618177e-02,   2.75342003e-03,\n",
      "         1.01772159e-01,   6.40644804e-02,   2.89218910e-02,\n",
      "        -5.24715558e-02,  -2.26491056e-02,   8.43495876e-03,\n",
      "        -8.48334208e-02,   4.51970920e-02,   4.57013547e-02,\n",
      "         2.47230530e-02,   3.24026607e-02,   1.99505895e-01,\n",
      "        -3.12699936e-02,   7.60502554e-03,  -1.62569229e-02,\n",
      "        -5.34616783e-02,  -5.11509627e-02,   1.99957769e-02], dtype=float32), 'Добрый вечер!Из Вашего вопроса вообще ничего не ясно.Ваш сын по ВНЖ в Нижегородской обл. сделал временную\\xa0 на 90 дней в Ростове? Так? Или в чем заключается вопрос?С ув., АлёнаМиграционный юристРостов-на-Дону ']\n"
     ]
    }
   ],
   "source": [
    "testing()"
   ]
  },
  {
   "cell_type": "code",
   "execution_count": 171,
   "metadata": {},
   "outputs": [
    {
     "name": "stdout",
     "output_type": "stream",
     "text": [
      "For 1384 attempts, there are(is) 1367 correct matches (score:0.9877167630057804)\n"
     ]
    }
   ],
   "source": [
    "test_data = defaultdict()\n",
    "\n",
    "true = 0\n",
    "\n",
    "for qa in qa_corpus:\n",
    "    if qa[1] in list(search(qa[0])):\n",
    "        true += 1\n",
    "\n",
    "print('For {} attempts, there are(is) {} correct matches (score:{})'.format(len(qa_corpus), true, true / len(qa_corpus)))"
   ]
  },
  {
   "cell_type": "code",
   "execution_count": 168,
   "metadata": {},
   "outputs": [
    {
     "data": {
      "text/plain": [
       "(1367, 0.9877167630057804)"
      ]
     },
     "execution_count": 168,
     "metadata": {},
     "output_type": "execute_result"
    }
   ],
   "source": [
    "true, true / len(qa_corpus)"
   ]
  },
  {
   "cell_type": "code",
   "execution_count": null,
   "metadata": {
    "collapsed": true
   },
   "outputs": [],
   "source": []
  }
 ],
 "metadata": {
  "kernelspec": {
   "display_name": "Python 3",
   "language": "python",
   "name": "python3"
  },
  "language_info": {
   "codemirror_mode": {
    "name": "ipython",
    "version": 3
   },
   "file_extension": ".py",
   "mimetype": "text/x-python",
   "name": "python",
   "nbconvert_exporter": "python",
   "pygments_lexer": "ipython3",
   "version": "3.5.2"
  }
 },
 "nbformat": 4,
 "nbformat_minor": 2
}
